{
 "cells": [
  {
   "cell_type": "markdown",
   "metadata": {},
   "source": [
    "# Running Pipelines using MIRI image data from MAST"
   ]
  },
  {
   "cell_type": "markdown",
   "metadata": {},
   "source": [
    "## Table of Contents:\n",
    "> * [Detector1 Pipeline](#detector1_pipeline)\n",
    "> * [Resources and Documentation](#resources)\n",
    "> * [Download Data from MAST](#download_from_mast)\n",
    "> * [Run Pipeline with Default Configuration](#pipeline_with_defaults)\n",
    "> * [About Configuration Files](#pipeline_configs)\n",
    "> * [Run Pipeline with Configuration Files](#pipeline_with_cfgs)\n",
    "> * [Run Pipeline with Parameters Set Programmatically](#pipeline_no_configs)\n",
    "> * [Run Individual Steps with Configuration Files](#steps_with_config_files)\n",
    "> * [Run Level 1, 2, 3, Pipelines in Succession](#pipelines_level_123)\n",
    "\n",
    "***\n",
    "<a id=detector1_pipeline></a>\n",
    "##  Detector1 Pipeline\n",
    "\n",
    "Stage 1 consists of detector-level corrections that are performed on a group-by-group basis, followed by ramp fitting. \n",
    "\n",
    "More information can be found at: https://jwst-pipeline.readthedocs.io/en/latest/jwst/pipeline/calwebb_detector1.html#calwebb-detector1\n",
    "\n",
    "> **Inputs**: The inputs to stage 1 processing will usually be level-1b raw files.\n",
    "\n",
    "> **Outputs**: The output of stage 1 processing is a countrate image per exposure, or per integration for some modes.\n",
    "    \n",
    "### Level 1 pipeline:\n",
    "\n",
    "**Calwebb Detector1**   (jwst.pipeline, calwebb_detector1, Detector1Pipeline)   (calwebb_detector1.cfg)\n",
    "\n",
    "### Level 1 pipeline steps:\n",
    "\n",
    "**Group Scale** (jwst.group_scale, group_scale_step, GroupScaleStep)   (group_scale.cfg)\n",
    "\n",
    "**DQInit** (jwst.dq_init, dq_init_step, DQInitStep)    (dq_init.cfg)\n",
    "\n",
    "**Saturation** (jwst.saturation, saturation_step, SaturationStep)    (saturation.cfg)\n",
    "\n",
    "**IPC**   (jwst.ipc,  ipc_step,  IPCStep)    (ipc.cfg)\n",
    "\n",
    "**Super Bias**   (jwst.superbias,  superbias_step,  SuperBiasStep)    (superbias.cfg)\n",
    "\n",
    "**Refpix** (jwst.refpix,  refpix_step,  RefpixStep)    (refpix.cfg)\n",
    "\n",
    "**RSCD**   (jwst.rscd,  rscd_step,  RSCD_Step)   (rscd.cfd)\n",
    "\n",
    "**First Frame**  (jwst.firstframe, firstframe_step,  FirstFrameStep)   (firstframe.cfg)\n",
    "\n",
    "**Last Frame**  (jwst.lastframe,  lastframe_step, LastFrameStep)   (lastframe.cfg)\n",
    "\n",
    "**Linearity**  (jwst.linearity,  linearity_step, LinearityStep)   (linearity.cfg)\n",
    "\n",
    "**Dark Current**  (jwst.dark_current,  dark_current_step,  DarkCurrentStep)   (dark_current.cfg)\n",
    "\n",
    "**Peristence**  (jwst.persistence,  persistence_step, PersistenceStep)   (persistence.cfg)\n",
    "\n",
    "**Jump**  (jwst.jump, jump_step,  JumpStep)  (jump_step.cfg)\n",
    "\n",
    "**RampFit**   (jwst.ramp_fit,  ramp_fit_step,  RampFitStep)   (ramp_fit_step.cfg)\n",
    "\n",
    "**Gain Scale**  (jwst.gain_scale,  gain_scale_step,  GainScaleStep)   (gain_scale_step.cfg)\n",
    "\n",
    "(for more information on individual steps see: https://jwst-pipeline.readthedocs.io/en/latest/jwst/package_index.html)\n",
    "\n",
    "***\n",
    "<a id='resources'></a>\n",
    "## Resources and Documentation\n",
    "\n",
    "There are several different places to find information on installing and running the pipeline. This notebook will give a shortened description of the steps pulled from the detailed pipeline information pages, but to find more in-depth instructions use the links below. \n",
    "\n",
    ">1. JDox: https://jwst-docs.stsci.edu/display/JDAT/JWST+Data+Reduction+Pipeline\n",
    ">2. Installation page: http://astroconda.readthedocs.io/en/latest/releases.html#pipeline-install\n",
    ">3. Detailed pipeline information: https://jwst-pipeline.readthedocs.io/en/latest/jwst/introduction.html\n",
    ">4. Help Desk (click on Pipeline Support): https://stsci.service-now.com/jwst?id=sc_category\n",
    ">5. GitHub README installation instructions: https://github.com/spacetelescope/jwst/blob/master/README.md\n",
    "\n",
    "\n",
    "If this is your first time trying to run the pipeline from a jupyter notebook, you need to install the jupyter notebook in your pipeline environment:\n",
    ">1. In a new terminal, change the directory to your working directory, terminal command: cd [your working directory]\n",
    ">2. Terminal command: source activate jwst_dev\n",
    "(or whatever your environment name for the pipeline is)\n",
    ">3. Terminal command: conda install jupyter\n",
    ">4. Terminal command: jupyter notebook\n",
    "\n",
    "**NOTE:** During your first run CRDS may download and cache reference files in $HOME/crds_cache.  On subsequent runs cached files will be used."
   ]
  },
  {
   "cell_type": "markdown",
   "metadata": {},
   "source": [
    "## Imports"
   ]
  },
  {
   "cell_type": "code",
   "execution_count": 1,
   "metadata": {},
   "outputs": [],
   "source": [
    "import os\n",
    "\n",
    "from astropy.io import fits\n",
    "from urllib.request import urlretrieve\n",
    "import matplotlib.pyplot as plt\n",
    "%matplotlib inline\n",
    "\n",
    "from jwst.pipeline import Detector1Pipeline\n",
    "from jwst.pipeline import Image2Pipeline\n",
    "from jwst.pipeline import Image3Pipeline\n",
    "from jwst import datamodels\n",
    "from jwst.pipeline.collect_pipeline_cfgs import collect_pipeline_cfgs"
   ]
  },
  {
   "cell_type": "markdown",
   "metadata": {},
   "source": [
    "### Quick & Dirty Plots"
   ]
  },
  {
   "cell_type": "code",
   "execution_count": 2,
   "metadata": {},
   "outputs": [],
   "source": [
    "def plot_image(obj, index=None):\n",
    "    if isinstance(obj, str):\n",
    "        data = fits.getdata(obj)\n",
    "    else:\n",
    "        data = obj.data\n",
    "    image = data[index] if index is not None else data\n",
    "    fig = plt.figure(figsize=(12,12))\n",
    "    ax = fig.add_subplot(1, 1, 1)\n",
    "    im = ax.imshow(image, origin='lower') # , norm=norm)\n",
    "    fig.colorbar(im)\n",
    "    plt.show()"
   ]
  },
  {
   "cell_type": "markdown",
   "metadata": {},
   "source": [
    "***\n",
    "<a id=\"download_from_mast\"></a>\n",
    "## Download Data from MAST\n",
    "\n",
    "Test data can be downloaded from MAST using Astroquery"
   ]
  },
  {
   "cell_type": "code",
   "execution_count": 3,
   "metadata": {},
   "outputs": [],
   "source": [
    "MAST_URI_PREFIX = \"https://pwjwdmsauiweb.stsci.edu/portal/Download/file?uri=mast:JWST/product/\" \n",
    "\n",
    "def download_mast(data_name,  local_name):\n",
    "    return urlretrieve(MAST_URI_PREFIX + data_name,  local_name)"
   ]
  },
  {
   "cell_type": "code",
   "execution_count": 4,
   "metadata": {},
   "outputs": [
    {
     "data": {
      "text/plain": [
       "('test.fits', <http.client.HTTPMessage at 0x12670b690>)"
      ]
     },
     "execution_count": 4,
     "metadata": {},
     "output_type": "execute_result"
    }
   ],
   "source": [
    "download_mast(\"jw00608002001_02101_00001_mirimage_uncal.fits\", \"test.fits\")"
   ]
  },
  {
   "cell_type": "markdown",
   "metadata": {},
   "source": [
    "***\n",
    "<a id=\"pipeline_with_defaults\"></a>\n",
    "## Run Pipeline With Default Configuration\n",
    "\n",
    "Pipelines can be run by using the .call() method on the Pipeline class and passing in a data file.   Running a pipeline generally executes each successive step on the output from the previous step.  The end result is an output data model."
   ]
  },
  {
   "cell_type": "code",
   "execution_count": 5,
   "metadata": {},
   "outputs": [
    {
     "name": "stderr",
     "output_type": "stream",
     "text": [
      "2019-09-10 16:11:22,745 - stpipe.Detector1Pipeline - INFO - Detector1Pipeline instance created.\n",
      "2019-09-10 16:11:22,746 - stpipe.Detector1Pipeline.group_scale - INFO - GroupScaleStep instance created.\n",
      "2019-09-10 16:11:22,748 - stpipe.Detector1Pipeline.dq_init - INFO - DQInitStep instance created.\n",
      "2019-09-10 16:11:22,749 - stpipe.Detector1Pipeline.saturation - INFO - SaturationStep instance created.\n",
      "2019-09-10 16:11:22,751 - stpipe.Detector1Pipeline.ipc - INFO - IPCStep instance created.\n",
      "2019-09-10 16:11:22,752 - stpipe.Detector1Pipeline.superbias - INFO - SuperBiasStep instance created.\n",
      "2019-09-10 16:11:22,754 - stpipe.Detector1Pipeline.refpix - INFO - RefPixStep instance created.\n",
      "2019-09-10 16:11:22,756 - stpipe.Detector1Pipeline.rscd - INFO - RSCD_Step instance created.\n",
      "2019-09-10 16:11:22,757 - stpipe.Detector1Pipeline.firstframe - INFO - FirstFrameStep instance created.\n",
      "2019-09-10 16:11:22,758 - stpipe.Detector1Pipeline.lastframe - INFO - LastFrameStep instance created.\n",
      "2019-09-10 16:11:22,760 - stpipe.Detector1Pipeline.linearity - INFO - LinearityStep instance created.\n",
      "2019-09-10 16:11:22,762 - stpipe.Detector1Pipeline.dark_current - INFO - DarkCurrentStep instance created.\n",
      "2019-09-10 16:11:22,763 - stpipe.Detector1Pipeline.persistence - INFO - PersistenceStep instance created.\n",
      "2019-09-10 16:11:22,765 - stpipe.Detector1Pipeline.jump - INFO - JumpStep instance created.\n",
      "2019-09-10 16:11:22,767 - stpipe.Detector1Pipeline.ramp_fit - INFO - RampFitStep instance created.\n",
      "2019-09-10 16:11:22,769 - stpipe.Detector1Pipeline.gain_scale - INFO - GainScaleStep instance created.\n",
      "2019-09-10 16:11:22,842 - stpipe.Detector1Pipeline - INFO - Step Detector1Pipeline running with args ('test.fits',).\n",
      "2019-09-10 16:11:23,646 - stpipe.Detector1Pipeline - WARNING - /Users/jmiller/miniconda3/envs/crds-env/lib/python3.7/site-packages/jwst/datamodels/util.py:165: NoTypeWarning: model_type not found. Opening test.fits as a RampModel\n",
      "  warnings.warn(errmsg, NoTypeWarning)\n",
      "\n",
      "2019-09-10 16:11:23,649 - stpipe.Detector1Pipeline - INFO - Prefetching reference files for dataset: 'test.fits' reftypes = ['dark', 'gain', 'ipc', 'linearity', 'mask', 'persat', 'readnoise', 'refpix', 'rscd', 'saturation', 'superbias', 'trapdensity', 'trappars']\n",
      "2019-09-10 16:11:24,399 - stpipe.Detector1Pipeline - INFO - Prefetch for DARK reference file is '/grp/crds/cache/references/jwst/jwst_miri_dark_0048.fits'.\n",
      "2019-09-10 16:11:24,403 - stpipe.Detector1Pipeline - INFO - Prefetch for GAIN reference file is '/grp/crds/cache/references/jwst/jwst_miri_gain_0008.fits'.\n",
      "2019-09-10 16:11:24,406 - stpipe.Detector1Pipeline - INFO - Prefetch for IPC reference file is '/grp/crds/cache/references/jwst/jwst_miri_ipc_0009.fits'.\n",
      "2019-09-10 16:11:24,410 - stpipe.Detector1Pipeline - INFO - Prefetch for LINEARITY reference file is '/grp/crds/cache/references/jwst/jwst_miri_linearity_0024.fits'.\n",
      "2019-09-10 16:11:24,414 - stpipe.Detector1Pipeline - INFO - Prefetch for MASK reference file is '/grp/crds/cache/references/jwst/jwst_miri_mask_0023.fits'.\n",
      "2019-09-10 16:11:24,418 - stpipe.Detector1Pipeline - INFO - Prefetch for PERSAT reference file is 'N/A'.\n",
      "2019-09-10 16:11:24,419 - stpipe.Detector1Pipeline - INFO - Prefetch for READNOISE reference file is '/grp/crds/cache/references/jwst/jwst_miri_readnoise_0039.fits'.\n",
      "2019-09-10 16:11:24,424 - stpipe.Detector1Pipeline - INFO - Prefetch for REFPIX reference file is 'N/A'.\n",
      "2019-09-10 16:11:24,426 - stpipe.Detector1Pipeline - INFO - Prefetch for RSCD reference file is '/grp/crds/cache/references/jwst/jwst_miri_rscd_0009.fits'.\n",
      "2019-09-10 16:11:24,433 - stpipe.Detector1Pipeline - INFO - Prefetch for SATURATION reference file is '/grp/crds/cache/references/jwst/jwst_miri_saturation_0022.fits'.\n",
      "2019-09-10 16:11:24,439 - stpipe.Detector1Pipeline - INFO - Prefetch for SUPERBIAS reference file is 'N/A'.\n",
      "2019-09-10 16:11:24,440 - stpipe.Detector1Pipeline - INFO - Prefetch for TRAPDENSITY reference file is 'N/A'.\n",
      "2019-09-10 16:11:24,441 - stpipe.Detector1Pipeline - INFO - Prefetch for TRAPPARS reference file is 'N/A'.\n",
      "2019-09-10 16:11:24,442 - stpipe.Detector1Pipeline - INFO - Starting calwebb_detector1 ...\n",
      "2019-09-10 16:11:24,691 - stpipe.Detector1Pipeline.group_scale - INFO - Step group_scale running with args (<RampModel(6, 10, 416, 72) from test.fits>,).\n",
      "2019-09-10 16:11:24,705 - stpipe.Detector1Pipeline.group_scale - INFO - NFRAMES and FRMDIVSR are equal; correction not needed\n",
      "2019-09-10 16:11:24,706 - stpipe.Detector1Pipeline.group_scale - INFO - Step will be skipped\n",
      "2019-09-10 16:11:24,713 - stpipe.Detector1Pipeline.group_scale - INFO - Step group_scale done\n",
      "2019-09-10 16:11:24,816 - stpipe.Detector1Pipeline.dq_init - INFO - Step dq_init running with args (<RampModel(6, 10, 416, 72) from test.fits>,).\n",
      "2019-09-10 16:11:24,836 - stpipe.Detector1Pipeline.dq_init - INFO - Using MASK reference file /grp/crds/cache/references/jwst/jwst_miri_mask_0023.fits\n",
      "2019-09-10 16:11:24,991 - stpipe.Detector1Pipeline.dq_init - INFO - Extracting mask subarray to match science data\n",
      "2019-09-10 16:11:25,001 - stpipe.Detector1Pipeline.dq_init - INFO - Step dq_init done\n",
      "2019-09-10 16:11:25,085 - stpipe.Detector1Pipeline.saturation - INFO - Step saturation running with args (<RampModel(6, 10, 416, 72) from test.fits>,).\n",
      "2019-09-10 16:11:25,103 - stpipe.Detector1Pipeline.saturation - INFO - Using SATURATION reference file /grp/crds/cache/references/jwst/jwst_miri_saturation_0022.fits\n",
      "2019-09-10 16:11:25,199 - stpipe.Detector1Pipeline.saturation - INFO - Extracting reference file subarray to match science data\n",
      "2019-09-10 16:11:25,220 - stpipe.Detector1Pipeline.saturation - INFO - Step saturation done\n",
      "2019-09-10 16:11:25,285 - stpipe.Detector1Pipeline.ipc - INFO - Step ipc running with args (<RampModel(6, 10, 416, 72) from test.fits>,).\n",
      "2019-09-10 16:11:25,302 - stpipe.Detector1Pipeline.ipc - INFO - Using IPC reference file /grp/crds/cache/references/jwst/jwst_miri_ipc_0009.fits\n",
      "2019-09-10 16:11:25,408 - stpipe.Detector1Pipeline.ipc - INFO - Step ipc done\n",
      "2019-09-10 16:11:25,468 - stpipe.Detector1Pipeline.firstframe - INFO - Step firstframe running with args (<RampModel(6, 10, 416, 72) from test.fits>,).\n",
      "2019-09-10 16:11:25,523 - stpipe.Detector1Pipeline.firstframe - INFO - Step firstframe done\n",
      "2019-09-10 16:11:25,590 - stpipe.Detector1Pipeline.lastframe - INFO - Step lastframe running with args (<RampModel(6, 10, 416, 72) from test.fits>,).\n",
      "2019-09-10 16:11:25,634 - stpipe.Detector1Pipeline.lastframe - INFO - Step lastframe done\n",
      "2019-09-10 16:11:25,688 - stpipe.Detector1Pipeline.linearity - INFO - Step linearity running with args (<RampModel(6, 10, 416, 72) from test.fits>,).\n",
      "2019-09-10 16:11:25,705 - stpipe.Detector1Pipeline.linearity - INFO - Using Linearity reference file /grp/crds/cache/references/jwst/jwst_miri_linearity_0024.fits\n",
      "2019-09-10 16:11:25,813 - stpipe.Detector1Pipeline.linearity - INFO - Extracting linearity subarray to match science data\n",
      "2019-09-10 16:11:25,856 - stpipe.Detector1Pipeline.linearity - INFO - Step linearity done\n",
      "2019-09-10 16:11:25,926 - stpipe.Detector1Pipeline.rscd - INFO - Step rscd running with args (<RampModel(6, 10, 416, 72) from test.fits>,).\n",
      "2019-09-10 16:11:25,940 - stpipe.Detector1Pipeline.rscd - INFO - Using RSCD reference file /grp/crds/cache/references/jwst/jwst_miri_rscd_0009.fits\n",
      "2019-09-10 16:11:26,018 - stpipe.Detector1Pipeline.rscd - INFO -  Working on integration 2\n",
      "2019-09-10 16:11:26,051 - stpipe.Detector1Pipeline.rscd - INFO -  Working on integration 3\n",
      "2019-09-10 16:11:26,066 - stpipe.Detector1Pipeline.rscd - INFO -  Working on integration 4\n",
      "2019-09-10 16:11:26,081 - stpipe.Detector1Pipeline.rscd - INFO -  Working on integration 5\n",
      "2019-09-10 16:11:26,110 - stpipe.Detector1Pipeline.rscd - INFO -  Working on integration 6\n",
      "2019-09-10 16:11:26,136 - stpipe.Detector1Pipeline.rscd - INFO - Step rscd done\n",
      "2019-09-10 16:11:26,211 - stpipe.Detector1Pipeline.dark_current - INFO - Step dark_current running with args (<RampModel(6, 10, 416, 72) from test.fits>,).\n",
      "2019-09-10 16:11:26,241 - stpipe.Detector1Pipeline.dark_current - INFO - Using DARK reference file /grp/crds/cache/references/jwst/jwst_miri_dark_0048.fits\n",
      "2019-09-10 16:11:26,346 - stpipe.Detector1Pipeline.dark_current - INFO - Science data nints=6, ngroups=10, nframes=1, groupgap=0\n"
     ]
    },
    {
     "name": "stderr",
     "output_type": "stream",
     "text": [
      "2019-09-10 16:11:26,347 - stpipe.Detector1Pipeline.dark_current - INFO - Dark data nints=2, ngroups=1000, nframes=1, groupgap=0\n",
      "2019-09-10 16:11:26,565 - stpipe.Detector1Pipeline.dark_current - INFO - Step dark_current done\n",
      "2019-09-10 16:11:26,653 - stpipe.Detector1Pipeline.refpix - INFO - Step refpix running with args (<RampModel(6, 10, 416, 72) from test.fits>,).\n",
      "2019-09-10 16:11:26,666 - stpipe.Detector1Pipeline.refpix - INFO - use_side_ref_pixels = True\n",
      "2019-09-10 16:11:26,666 - stpipe.Detector1Pipeline.refpix - INFO - odd_even_columns = True\n",
      "2019-09-10 16:11:26,667 - stpipe.Detector1Pipeline.refpix - INFO - side_smoothing_length = 11\n",
      "2019-09-10 16:11:26,667 - stpipe.Detector1Pipeline.refpix - INFO - side_gain = 1.000000\n",
      "2019-09-10 16:11:26,668 - stpipe.Detector1Pipeline.refpix - INFO - odd_even_rows = True\n",
      "2019-09-10 16:11:26,710 - stpipe.Detector1Pipeline.refpix - WARNING - Refpix correction skipped for MIRI subarrays\n",
      "2019-09-10 16:11:26,712 - stpipe.Detector1Pipeline.refpix - INFO - Step refpix done\n",
      "2019-09-10 16:11:26,782 - stpipe.Detector1Pipeline.jump - INFO - Step jump running with args (<RampModel(6, 10, 416, 72) from test.fits>,).\n",
      "2019-09-10 16:11:26,794 - stpipe.Detector1Pipeline.jump - INFO - CR rejection threshold = 4 sigma\n",
      "2019-09-10 16:11:26,799 - stpipe.Detector1Pipeline.jump - INFO - Using GAIN reference file: /grp/crds/cache/references/jwst/jwst_miri_gain_0008.fits\n",
      "2019-09-10 16:11:26,841 - stpipe.Detector1Pipeline.jump - INFO - Using READNOISE reference file: /grp/crds/cache/references/jwst/jwst_miri_readnoise_0039.fits\n",
      "2019-09-10 16:11:26,900 - stpipe.Detector1Pipeline.jump - INFO - Extracting gain subarray to match science data\n",
      "2019-09-10 16:11:26,906 - stpipe.Detector1Pipeline.jump - INFO - Executing two-point difference method\n",
      "2019-09-10 16:11:26,947 - stpipe.Detector1Pipeline.jump - INFO -  working on integration 1\n",
      "2019-09-10 16:11:26,962 - stpipe.Detector1Pipeline.jump - INFO - From highest outlier Two point found 24230 pixels with at least one CR\n",
      "2019-09-10 16:11:29,295 - stpipe.Detector1Pipeline.jump - INFO -  working on integration 2\n",
      "2019-09-10 16:11:29,307 - stpipe.Detector1Pipeline.jump - INFO - From highest outlier Two point found 19928 pixels with at least one CR\n",
      "2019-09-10 16:11:31,528 - stpipe.Detector1Pipeline.jump - INFO -  working on integration 3\n",
      "2019-09-10 16:11:31,540 - stpipe.Detector1Pipeline.jump - INFO - From highest outlier Two point found 22062 pixels with at least one CR\n",
      "2019-09-10 16:11:33,730 - stpipe.Detector1Pipeline.jump - INFO -  working on integration 4\n",
      "2019-09-10 16:11:33,742 - stpipe.Detector1Pipeline.jump - INFO - From highest outlier Two point found 24269 pixels with at least one CR\n",
      "2019-09-10 16:11:35,976 - stpipe.Detector1Pipeline.jump - INFO -  working on integration 5\n",
      "2019-09-10 16:11:35,989 - stpipe.Detector1Pipeline.jump - INFO - From highest outlier Two point found 22088 pixels with at least one CR\n",
      "2019-09-10 16:11:38,276 - stpipe.Detector1Pipeline.jump - INFO -  working on integration 6\n",
      "2019-09-10 16:11:38,289 - stpipe.Detector1Pipeline.jump - INFO - From highest outlier Two point found 19956 pixels with at least one CR\n",
      "2019-09-10 16:11:40,557 - stpipe.Detector1Pipeline.jump - INFO - The execution time in seconds: 13.762753\n",
      "2019-09-10 16:11:40,560 - stpipe.Detector1Pipeline.jump - INFO - Step jump done\n",
      "2019-09-10 16:11:40,619 - stpipe.Detector1Pipeline.ramp_fit - INFO - Step ramp_fit running with args (<RampModel(6, 10, 416, 72) from test.fits>,).\n",
      "2019-09-10 16:11:40,648 - stpipe.Detector1Pipeline.ramp_fit - INFO - Using READNOISE reference file: /grp/crds/cache/references/jwst/jwst_miri_readnoise_0039.fits\n",
      "2019-09-10 16:11:40,688 - stpipe.Detector1Pipeline.ramp_fit - INFO - Using GAIN reference file: /grp/crds/cache/references/jwst/jwst_miri_gain_0008.fits\n",
      "2019-09-10 16:11:40,727 - stpipe.Detector1Pipeline.ramp_fit - INFO - Using algorithm = ols\n",
      "2019-09-10 16:11:40,727 - stpipe.Detector1Pipeline.ramp_fit - INFO - Using weighting = optimal\n",
      "2019-09-10 16:11:40,776 - stpipe.Detector1Pipeline.ramp_fit - INFO - Number of leading groups that are flagged as DO_NOT_USE: 1\n",
      "2019-09-10 16:11:40,778 - stpipe.Detector1Pipeline.ramp_fit - INFO - MIRI dataset has all pixels in the final group flagged as DO_NOT_USE.\n",
      "2019-09-10 16:11:40,779 - stpipe.Detector1Pipeline.ramp_fit - INFO - Effective integration time per group: 0.15904\n",
      "2019-09-10 16:11:40,783 - stpipe.Detector1Pipeline.ramp_fit - INFO - Extracting gain subarray to match science data\n",
      "2019-09-10 16:11:51,419 - stpipe.Detector1Pipeline.ramp_fit - INFO - Number of groups per integration: 10\n",
      "2019-09-10 16:11:51,420 - stpipe.Detector1Pipeline.ramp_fit - INFO - Number of integrations: 6\n",
      "2019-09-10 16:11:51,455 - stpipe.Detector1Pipeline.ramp_fit - INFO - Step ramp_fit done\n",
      "2019-09-10 16:11:51,521 - stpipe.Detector1Pipeline.gain_scale - INFO - Step gain_scale running with args (<ImageModel(416, 72) from test.fits>,).\n",
      "2019-09-10 16:11:51,571 - stpipe.Detector1Pipeline.gain_scale - INFO - GAINFACT not found in gain reference file\n",
      "2019-09-10 16:11:51,572 - stpipe.Detector1Pipeline.gain_scale - INFO - Step will be skipped\n",
      "2019-09-10 16:11:51,575 - stpipe.Detector1Pipeline.gain_scale - INFO - Step gain_scale done\n",
      "2019-09-10 16:11:51,639 - stpipe.Detector1Pipeline.gain_scale - INFO - Step gain_scale running with args (<CubeModel(6, 416, 72) from test.fits>,).\n",
      "2019-09-10 16:11:51,687 - stpipe.Detector1Pipeline.gain_scale - INFO - GAINFACT not found in gain reference file\n",
      "2019-09-10 16:11:51,688 - stpipe.Detector1Pipeline.gain_scale - INFO - Step will be skipped\n",
      "2019-09-10 16:11:51,692 - stpipe.Detector1Pipeline.gain_scale - INFO - Step gain_scale done\n",
      "2019-09-10 16:11:51,692 - stpipe.Detector1Pipeline - INFO - ... ending calwebb_detector1\n",
      "2019-09-10 16:11:51,694 - stpipe.Detector1Pipeline - INFO - Step Detector1Pipeline done\n"
     ]
    },
    {
     "data": {
      "text/plain": [
       "<ImageModel(416, 72) from test.fits>"
      ]
     },
     "execution_count": 5,
     "metadata": {},
     "output_type": "execute_result"
    }
   ],
   "source": [
    "output_model = Detector1Pipeline.call(\"test.fits\")\n",
    "output_model"
   ]
  },
  {
   "cell_type": "markdown",
   "metadata": {},
   "source": [
    "***\n",
    "<a id='pipeline_configs'></a>\n",
    "## About Configuration Files\n",
    "\n",
    "Configuration files are optional inputs for each step of the pipeline, as well as for the pipeline itself. These files list step-specific parameters, and can also be used to control which steps are run as part of the pipeline.\n",
    "\n",
    "You can get the full compliment of configuration files using the collect_pipeline_cfgs convenience function from the command line:\n",
    "\n",
    "    $ collect_pipeline_cfgs ./cfgs\n",
    "    \n",
    "The above can be executed in a notebook terminal window or by using the cell ! shell escape command.\n",
    "    \n",
    "This creates a copy of all configuration files, for all steps and all JWST Instruments. Note that default parameters in the config files are not necessarily optimized for any particular instrument.\n",
    "\n",
    "Each of these configuration files can be customized to control pipeline behavior. For example, the configuration file for the Level 1 detector pipeline is called calwebb_detector1.cfg and contains a list (not necessarily in order) of the steps run as part of the Level 1 pipeline.\n",
    "\n",
    "name = \"Detector1Pipeline\"\n",
    "class = \"jwst.pipeline.Detector1Pipeline\"\n",
    "save_calibrated_ramp = False\n",
    "\n",
    "    [steps]\n",
    "      [[group_scale]]\n",
    "        config_file = group_scale.cfg\n",
    "      [[dq_init]]\n",
    "        config_file = dq_init.cfg\n",
    "      [[saturation]]\n",
    "        config_file = saturation.cfg\n",
    "      [[ipc]]\n",
    "        skip = True\n",
    "      [[superbias]]\n",
    "        config_file = superbias.cfg\n",
    "      [[refpix]]\n",
    "        config_file = refpix.cfg\n",
    "      [[rscd]]\n",
    "        config_file = rscd.cfg\n",
    "      [[firstframe]]\n",
    "        config_file = firstframe.cfg\n",
    "      [[lastframe]]\n",
    "        config_file = lastframe.cfg\n",
    "      [[linearity]]\n",
    "        config_file = linearity.cfg\n",
    "      [[dark_current]]\n",
    "        config_file = dark_current.cfg\n",
    "      [[persistence]]\n",
    "        config_file = persistence.cfg\n",
    "      [[jump]]\n",
    "        config_file = jump.cfg\n",
    "      [[ramp_fit]]\n",
    "        config_file = ramp_fit.cfg\n",
    "      [[gain_scale]]\n",
    "        config_file = gain_scale.cfg\n",
    "\n",
    "In this example, the ipc step will be skipped (skip = True), and the output from the superbias step will be saved (save_results = True).\n",
    "\n",
    "Note that calwebb_detector1.cfg lists a configuration file for each pipeline step. You can customize a particular pipeline step by editing the parameters in its configuration file. \n"
   ]
  },
  {
   "cell_type": "markdown",
   "metadata": {},
   "source": [
    "### Config File Setup\n",
    "\n",
    "To obtain all config files in a \"cfgs\" directory execute the following cell."
   ]
  },
  {
   "cell_type": "code",
   "execution_count": 20,
   "metadata": {},
   "outputs": [
    {
     "name": "stdout",
     "output_type": "stream",
     "text": [
      "align_refs.cfg                     guider_cds.cfg\r\n",
      "ami_analyze.cfg                    hlsp.cfg\r\n",
      "ami_average.cfg                    imprint.cfg\r\n",
      "ami_normalize.cfg                  ipc.cfg\r\n",
      "assign_wcs.cfg                     jump.cfg\r\n",
      "background.cfg                     klip.cfg\r\n",
      "calwebb_ami3.cfg                   lastframe.cfg\r\n",
      "calwebb_coron3.cfg                 linear_pipeline.cfg\r\n",
      "calwebb_dark.cfg                   linearity.cfg\r\n",
      "calwebb_detector1.cfg              master_background.cfg\r\n",
      "calwebb_detector1_with_save.cfg    mrs_imatch.cfg\r\n",
      "calwebb_guider.cfg                 outlier_detection.cfg\r\n",
      "calwebb_image2.cfg                 outlier_detection_scaled.cfg\r\n",
      "calwebb_image3.cfg                 outlier_detection_stack.cfg\r\n",
      "calwebb_nrslamp-spec2.cfg          outlier_detection_tso.cfg\r\n",
      "calwebb_spec2.cfg                  pathloss.cfg\r\n",
      "calwebb_spec3.cfg                  persistence.cfg\r\n",
      "calwebb_tso-image2.cfg             persistence_with_out_pers_save.cfg\r\n",
      "calwebb_tso-spec2.cfg              photom.cfg\r\n",
      "calwebb_tso1.cfg                   ramp_fit.cfg\r\n",
      "calwebb_tso3.cfg                   refpix.cfg\r\n",
      "calwebb_wfs-image2.cfg             resample.cfg\r\n",
      "calwebb_wfs-image3.cfg             resample_spec.cfg\r\n",
      "combine_1d.cfg                     reset.cfg\r\n",
      "cube_build.cfg                     rscd.cfg\r\n",
      "dark_current.cfg                   saturation.cfg\r\n",
      "dq_init.cfg                        skymatch.cfg\r\n",
      "emission.cfg                       source_catalog.cfg\r\n",
      "engdblog.cfg                       srctype.cfg\r\n",
      "extract_1d.cfg                     stack_refs.cfg\r\n",
      "extract_2d.cfg                     straylight.cfg\r\n",
      "firstframe.cfg                     subtract_images.cfg\r\n",
      "flat_field.cfg                     superbias.cfg\r\n",
      "fringe.cfg                         tweakreg.cfg\r\n",
      "gain_scale.cfg                     wfs_combine.cfg\r\n",
      "group_scale.cfg                    white_light.cfg\r\n"
     ]
    }
   ],
   "source": [
    "# ! rm -rf ./cfgs    # uncomment to delete your cfgs\n",
    "if not os.path.exists(\"./cfgs\"):\n",
    "    collect_pipeline_cfgs('./cfgs')\n",
    "! ls cfgs"
   ]
  },
  {
   "cell_type": "markdown",
   "metadata": {},
   "source": [
    "***\n",
    "<a id=\"pipeline_with_cfgs\"></a>\n",
    "## Run Pipeline with Configuration Files\n",
    "\n",
    "In your cfgs directory, edit the file calwebb_detector1.cfg and change this:\n",
    "\n",
    "      [[dark_current]]\n",
    "        config_file = dark_current.cfg\n",
    "        \n",
    "to this:\n",
    "\n",
    "      [[dark_current]]\n",
    "        config_file = dark_current.cfg\n",
    "        save_results = True\n",
    "\n",
    "by executing the following cell (for demo purposes only) and printing the resulting calwebb_detector1_with_save.cfg file:"
   ]
  },
  {
   "cell_type": "code",
   "execution_count": 7,
   "metadata": {},
   "outputs": [
    {
     "name": "stdout",
     "output_type": "stream",
     "text": [
      "name = \"Detector1Pipeline\"\r\n",
      "class = \"jwst.pipeline.Detector1Pipeline\"\r\n",
      "save_calibrated_ramp = False\r\n",
      "\r\n",
      "    [steps]\r\n",
      "      [[group_scale]]\r\n",
      "        config_file = group_scale.cfg\r\n",
      "      [[dq_init]]\r\n",
      "        config_file = dq_init.cfg\r\n",
      "      [[saturation]]\r\n",
      "        config_file = saturation.cfg\r\n",
      "      [[ipc]]\r\n",
      "        skip = True\r\n",
      "      [[superbias]]\r\n",
      "        config_file = superbias.cfg\r\n",
      "      [[refpix]]\r\n",
      "        config_file = refpix.cfg\r\n",
      "      [[rscd]]\r\n",
      "        config_file = rscd.cfg\r\n",
      "      [[firstframe]]\r\n",
      "        config_file = firstframe.cfg\r\n",
      "      [[lastframe]]\r\n",
      "        config_file = lastframe.cfg\r\n",
      "      [[linearity]]\r\n",
      "        config_file = linearity.cfg\r\n",
      "      [[dark_current]]\r\n",
      "        save_results = True\r\n",
      "        config_file = dark_current.cfg\r\n",
      "      [[persistence]]\r\n",
      "        config_file = persistence.cfg\r\n",
      "      [[jump]]\r\n",
      "        config_file = jump.cfg\r\n",
      "      [[ramp_fit]]\r\n",
      "        config_file = ramp_fit.cfg\r\n",
      "      [[gain_scale]]\r\n",
      "        config_file = gain_scale.cfg\r\n"
     ]
    }
   ],
   "source": [
    "# This cell is pretending to be you creating and editing a new .cfg file.   Don't sweat it,  use an editor.\n",
    "\n",
    "# Don't sweat it, use an editor or the programmatic method if you'd prefer code.   This is not what you normally do.\n",
    "\n",
    "! cp cfgs/calwebb_detector1.cfg  cfgs/calwebb_detector1_with_save.cfg\n",
    "! perl -pi -e's/      \\[\\[dark_current\\]\\]\\n/      \\[\\[dark_current\\]\\]\\n        save_results = True\\n/g' cfgs/calwebb_detector1_with_save.cfg\n",
    "! cat cfgs/calwebb_detector1_with_save.cfg\n",
    "\n",
    "# And the result is..."
   ]
  },
  {
   "cell_type": "markdown",
   "metadata": {},
   "source": [
    "Normally just use menu File -> New -> Terminal and then edit with emacs or vi.  Alternatively use the programmatic methods demoed later."
   ]
  },
  {
   "cell_type": "code",
   "execution_count": 8,
   "metadata": {},
   "outputs": [
    {
     "name": "stderr",
     "output_type": "stream",
     "text": [
      "2019-09-10 16:11:52,254 - stpipe.Detector1Pipeline - INFO - Detector1Pipeline instance created.\n",
      "2019-09-10 16:11:52,256 - stpipe.Detector1Pipeline.group_scale - INFO - GroupScaleStep instance created.\n",
      "2019-09-10 16:11:52,257 - stpipe.Detector1Pipeline.dq_init - INFO - DQInitStep instance created.\n",
      "2019-09-10 16:11:52,259 - stpipe.Detector1Pipeline.saturation - INFO - SaturationStep instance created.\n",
      "2019-09-10 16:11:52,261 - stpipe.Detector1Pipeline.ipc - INFO - IPCStep instance created.\n",
      "2019-09-10 16:11:52,263 - stpipe.Detector1Pipeline.superbias - INFO - SuperBiasStep instance created.\n",
      "2019-09-10 16:11:52,265 - stpipe.Detector1Pipeline.refpix - INFO - RefPixStep instance created.\n",
      "2019-09-10 16:11:52,267 - stpipe.Detector1Pipeline.rscd - INFO - RSCD_Step instance created.\n",
      "2019-09-10 16:11:52,269 - stpipe.Detector1Pipeline.firstframe - INFO - FirstFrameStep instance created.\n",
      "2019-09-10 16:11:52,272 - stpipe.Detector1Pipeline.lastframe - INFO - LastFrameStep instance created.\n",
      "2019-09-10 16:11:52,274 - stpipe.Detector1Pipeline.linearity - INFO - LinearityStep instance created.\n",
      "2019-09-10 16:11:52,275 - stpipe.Detector1Pipeline.dark_current - INFO - DarkCurrentStep instance created.\n",
      "2019-09-10 16:11:52,277 - stpipe.Detector1Pipeline.persistence - INFO - PersistenceStep instance created.\n",
      "2019-09-10 16:11:52,279 - stpipe.Detector1Pipeline.jump - INFO - JumpStep instance created.\n",
      "2019-09-10 16:11:52,281 - stpipe.Detector1Pipeline.ramp_fit - INFO - RampFitStep instance created.\n",
      "2019-09-10 16:11:52,284 - stpipe.Detector1Pipeline.gain_scale - INFO - GainScaleStep instance created.\n",
      "2019-09-10 16:11:52,371 - stpipe.Detector1Pipeline - INFO - Step Detector1Pipeline running with args ('test.fits',).\n",
      "2019-09-10 16:11:52,546 - stpipe.Detector1Pipeline - WARNING - /Users/jmiller/miniconda3/envs/crds-env/lib/python3.7/site-packages/jwst/datamodels/util.py:165: NoTypeWarning: model_type not found. Opening test.fits as a RampModel\n",
      "  warnings.warn(errmsg, NoTypeWarning)\n",
      "\n",
      "2019-09-10 16:11:52,547 - stpipe.Detector1Pipeline - INFO - Prefetching reference files for dataset: 'test.fits' reftypes = ['dark', 'gain', 'linearity', 'mask', 'persat', 'readnoise', 'refpix', 'rscd', 'saturation', 'superbias', 'trapdensity', 'trappars']\n",
      "2019-09-10 16:11:52,565 - stpipe.Detector1Pipeline - INFO - Prefetch for DARK reference file is '/grp/crds/cache/references/jwst/jwst_miri_dark_0048.fits'.\n",
      "2019-09-10 16:11:52,571 - stpipe.Detector1Pipeline - INFO - Prefetch for GAIN reference file is '/grp/crds/cache/references/jwst/jwst_miri_gain_0008.fits'.\n",
      "2019-09-10 16:11:52,574 - stpipe.Detector1Pipeline - INFO - Prefetch for LINEARITY reference file is '/grp/crds/cache/references/jwst/jwst_miri_linearity_0024.fits'.\n",
      "2019-09-10 16:11:52,577 - stpipe.Detector1Pipeline - INFO - Prefetch for MASK reference file is '/grp/crds/cache/references/jwst/jwst_miri_mask_0023.fits'.\n",
      "2019-09-10 16:11:52,581 - stpipe.Detector1Pipeline - INFO - Prefetch for PERSAT reference file is 'N/A'.\n",
      "2019-09-10 16:11:52,581 - stpipe.Detector1Pipeline - INFO - Prefetch for READNOISE reference file is '/grp/crds/cache/references/jwst/jwst_miri_readnoise_0039.fits'.\n",
      "2019-09-10 16:11:52,584 - stpipe.Detector1Pipeline - INFO - Prefetch for REFPIX reference file is 'N/A'.\n",
      "2019-09-10 16:11:52,585 - stpipe.Detector1Pipeline - INFO - Prefetch for RSCD reference file is '/grp/crds/cache/references/jwst/jwst_miri_rscd_0009.fits'.\n",
      "2019-09-10 16:11:52,587 - stpipe.Detector1Pipeline - INFO - Prefetch for SATURATION reference file is '/grp/crds/cache/references/jwst/jwst_miri_saturation_0022.fits'.\n",
      "2019-09-10 16:11:52,590 - stpipe.Detector1Pipeline - INFO - Prefetch for SUPERBIAS reference file is 'N/A'.\n",
      "2019-09-10 16:11:52,590 - stpipe.Detector1Pipeline - INFO - Prefetch for TRAPDENSITY reference file is 'N/A'.\n",
      "2019-09-10 16:11:52,591 - stpipe.Detector1Pipeline - INFO - Prefetch for TRAPPARS reference file is 'N/A'.\n",
      "2019-09-10 16:11:52,592 - stpipe.Detector1Pipeline - INFO - Starting calwebb_detector1 ...\n",
      "2019-09-10 16:11:52,818 - stpipe.Detector1Pipeline.group_scale - INFO - Step group_scale running with args (<RampModel(6, 10, 416, 72) from test.fits>,).\n",
      "2019-09-10 16:11:52,835 - stpipe.Detector1Pipeline.group_scale - INFO - NFRAMES and FRMDIVSR are equal; correction not needed\n",
      "2019-09-10 16:11:52,836 - stpipe.Detector1Pipeline.group_scale - INFO - Step will be skipped\n",
      "2019-09-10 16:11:52,838 - stpipe.Detector1Pipeline.group_scale - INFO - Step group_scale done\n",
      "2019-09-10 16:11:52,904 - stpipe.Detector1Pipeline.dq_init - INFO - Step dq_init running with args (<RampModel(6, 10, 416, 72) from test.fits>,).\n",
      "2019-09-10 16:11:52,924 - stpipe.Detector1Pipeline.dq_init - INFO - Using MASK reference file /grp/crds/cache/references/jwst/jwst_miri_mask_0023.fits\n",
      "2019-09-10 16:11:53,008 - stpipe.Detector1Pipeline.dq_init - INFO - Extracting mask subarray to match science data\n",
      "2019-09-10 16:11:53,018 - stpipe.Detector1Pipeline.dq_init - INFO - Step dq_init done\n",
      "2019-09-10 16:11:53,080 - stpipe.Detector1Pipeline - WARNING - /Users/jmiller/miniconda3/envs/crds-env/lib/python3.7/site-packages/jwst/stpipe/step.py:341: ResourceWarning: unclosed file <_io.FileIO name='test.fits' mode='rb' closefd=True>\n",
      "  gc.collect()\n",
      "\n",
      "2019-09-10 16:11:53,084 - stpipe.Detector1Pipeline.saturation - INFO - Step saturation running with args (<RampModel(6, 10, 416, 72) from test.fits>,).\n",
      "2019-09-10 16:11:53,104 - stpipe.Detector1Pipeline.saturation - INFO - Using SATURATION reference file /grp/crds/cache/references/jwst/jwst_miri_saturation_0022.fits\n",
      "2019-09-10 16:11:53,188 - stpipe.Detector1Pipeline.saturation - INFO - Extracting reference file subarray to match science data\n",
      "2019-09-10 16:11:53,212 - stpipe.Detector1Pipeline.saturation - INFO - Step saturation done\n",
      "2019-09-10 16:11:53,274 - stpipe.Detector1Pipeline.ipc - INFO - Step ipc running with args (<RampModel(6, 10, 416, 72) from test.fits>,).\n",
      "2019-09-10 16:11:53,275 - stpipe.Detector1Pipeline.ipc - INFO - Step skipped.\n",
      "2019-09-10 16:11:53,278 - stpipe.Detector1Pipeline.ipc - INFO - Step ipc done\n",
      "2019-09-10 16:11:53,347 - stpipe.Detector1Pipeline.firstframe - INFO - Step firstframe running with args (<RampModel(6, 10, 416, 72) from test.fits>,).\n",
      "2019-09-10 16:11:53,397 - stpipe.Detector1Pipeline.firstframe - INFO - Step firstframe done\n",
      "2019-09-10 16:11:53,461 - stpipe.Detector1Pipeline.lastframe - INFO - Step lastframe running with args (<RampModel(6, 10, 416, 72) from test.fits>,).\n",
      "2019-09-10 16:11:53,507 - stpipe.Detector1Pipeline.lastframe - INFO - Step lastframe done\n",
      "2019-09-10 16:11:53,568 - stpipe.Detector1Pipeline.linearity - INFO - Step linearity running with args (<RampModel(6, 10, 416, 72) from test.fits>,).\n",
      "2019-09-10 16:11:53,589 - stpipe.Detector1Pipeline.linearity - INFO - Using Linearity reference file /grp/crds/cache/references/jwst/jwst_miri_linearity_0024.fits\n",
      "2019-09-10 16:11:53,672 - stpipe.Detector1Pipeline.linearity - INFO - Extracting linearity subarray to match science data\n",
      "2019-09-10 16:11:53,710 - stpipe.Detector1Pipeline.linearity - INFO - Step linearity done\n",
      "2019-09-10 16:11:53,771 - stpipe.Detector1Pipeline.rscd - INFO - Step rscd running with args (<RampModel(6, 10, 416, 72) from test.fits>,).\n",
      "2019-09-10 16:11:53,792 - stpipe.Detector1Pipeline.rscd - INFO - Using RSCD reference file /grp/crds/cache/references/jwst/jwst_miri_rscd_0009.fits\n",
      "2019-09-10 16:11:53,856 - stpipe.Detector1Pipeline.rscd - INFO -  Working on integration 2\n",
      "2019-09-10 16:11:53,873 - stpipe.Detector1Pipeline.rscd - INFO -  Working on integration 3\n",
      "2019-09-10 16:11:53,888 - stpipe.Detector1Pipeline.rscd - INFO -  Working on integration 4\n",
      "2019-09-10 16:11:53,900 - stpipe.Detector1Pipeline.rscd - INFO -  Working on integration 5\n",
      "2019-09-10 16:11:53,914 - stpipe.Detector1Pipeline.rscd - INFO -  Working on integration 6\n",
      "2019-09-10 16:11:53,930 - stpipe.Detector1Pipeline.rscd - INFO - Step rscd done\n",
      "2019-09-10 16:11:53,994 - stpipe.Detector1Pipeline.dark_current - INFO - Step dark_current running with args (<RampModel(6, 10, 416, 72) from test.fits>,).\n",
      "2019-09-10 16:11:54,014 - stpipe.Detector1Pipeline.dark_current - INFO - Using DARK reference file /grp/crds/cache/references/jwst/jwst_miri_dark_0048.fits\n",
      "2019-09-10 16:11:54,081 - stpipe.Detector1Pipeline.dark_current - INFO - Science data nints=6, ngroups=10, nframes=1, groupgap=0\n"
     ]
    },
    {
     "name": "stderr",
     "output_type": "stream",
     "text": [
      "2019-09-10 16:11:54,082 - stpipe.Detector1Pipeline.dark_current - INFO - Dark data nints=2, ngroups=1000, nframes=1, groupgap=0\n",
      "2019-09-10 16:11:54,538 - stpipe.Detector1Pipeline.dark_current - INFO - Saved model in test_dark_current.fits\n",
      "2019-09-10 16:11:54,538 - stpipe.Detector1Pipeline.dark_current - INFO - Step dark_current done\n",
      "2019-09-10 16:11:54,599 - stpipe.Detector1Pipeline.refpix - INFO - Step refpix running with args (<RampModel(6, 10, 416, 72) from test_dark_current.fits>,).\n",
      "2019-09-10 16:11:54,613 - stpipe.Detector1Pipeline.refpix - INFO - use_side_ref_pixels = True\n",
      "2019-09-10 16:11:54,614 - stpipe.Detector1Pipeline.refpix - INFO - odd_even_columns = True\n",
      "2019-09-10 16:11:54,615 - stpipe.Detector1Pipeline.refpix - INFO - side_smoothing_length = 11\n",
      "2019-09-10 16:11:54,615 - stpipe.Detector1Pipeline.refpix - INFO - side_gain = 1.000000\n",
      "2019-09-10 16:11:54,616 - stpipe.Detector1Pipeline.refpix - INFO - odd_even_rows = True\n",
      "2019-09-10 16:11:54,653 - stpipe.Detector1Pipeline.refpix - WARNING - Refpix correction skipped for MIRI subarrays\n",
      "2019-09-10 16:11:54,654 - stpipe.Detector1Pipeline.refpix - INFO - Step refpix done\n",
      "2019-09-10 16:11:54,715 - stpipe.Detector1Pipeline.jump - INFO - Step jump running with args (<RampModel(6, 10, 416, 72) from test_dark_current.fits>,).\n",
      "2019-09-10 16:11:54,733 - stpipe.Detector1Pipeline.jump - INFO - CR rejection threshold = 4 sigma\n",
      "2019-09-10 16:11:54,738 - stpipe.Detector1Pipeline.jump - INFO - Using GAIN reference file: /grp/crds/cache/references/jwst/jwst_miri_gain_0008.fits\n",
      "2019-09-10 16:11:54,775 - stpipe.Detector1Pipeline.jump - INFO - Using READNOISE reference file: /grp/crds/cache/references/jwst/jwst_miri_readnoise_0039.fits\n",
      "2019-09-10 16:11:54,829 - stpipe.Detector1Pipeline.jump - INFO - Extracting gain subarray to match science data\n",
      "2019-09-10 16:11:54,834 - stpipe.Detector1Pipeline.jump - INFO - Executing two-point difference method\n",
      "2019-09-10 16:11:54,879 - stpipe.Detector1Pipeline.jump - INFO -  working on integration 1\n",
      "2019-09-10 16:11:54,893 - stpipe.Detector1Pipeline.jump - INFO - From highest outlier Two point found 24230 pixels with at least one CR\n",
      "2019-09-10 16:11:57,249 - stpipe.Detector1Pipeline.jump - INFO -  working on integration 2\n",
      "2019-09-10 16:11:57,261 - stpipe.Detector1Pipeline.jump - INFO - From highest outlier Two point found 19928 pixels with at least one CR\n",
      "2019-09-10 16:11:59,439 - stpipe.Detector1Pipeline.jump - INFO -  working on integration 3\n",
      "2019-09-10 16:11:59,450 - stpipe.Detector1Pipeline.jump - INFO - From highest outlier Two point found 22062 pixels with at least one CR\n",
      "2019-09-10 16:12:01,629 - stpipe.Detector1Pipeline.jump - INFO -  working on integration 4\n",
      "2019-09-10 16:12:01,639 - stpipe.Detector1Pipeline.jump - INFO - From highest outlier Two point found 24269 pixels with at least one CR\n",
      "2019-09-10 16:12:03,878 - stpipe.Detector1Pipeline.jump - INFO -  working on integration 5\n",
      "2019-09-10 16:12:03,889 - stpipe.Detector1Pipeline.jump - INFO - From highest outlier Two point found 22088 pixels with at least one CR\n",
      "2019-09-10 16:12:06,179 - stpipe.Detector1Pipeline.jump - INFO -  working on integration 6\n",
      "2019-09-10 16:12:06,192 - stpipe.Detector1Pipeline.jump - INFO - From highest outlier Two point found 19956 pixels with at least one CR\n",
      "2019-09-10 16:12:08,697 - stpipe.Detector1Pipeline.jump - INFO - The execution time in seconds: 13.964203\n",
      "2019-09-10 16:12:08,703 - stpipe.Detector1Pipeline.jump - INFO - Step jump done\n",
      "2019-09-10 16:12:08,764 - stpipe.Detector1Pipeline.ramp_fit - INFO - Step ramp_fit running with args (<RampModel(6, 10, 416, 72) from test_dark_current.fits>,).\n",
      "2019-09-10 16:12:08,794 - stpipe.Detector1Pipeline.ramp_fit - INFO - Using READNOISE reference file: /grp/crds/cache/references/jwst/jwst_miri_readnoise_0039.fits\n",
      "2019-09-10 16:12:08,836 - stpipe.Detector1Pipeline.ramp_fit - INFO - Using GAIN reference file: /grp/crds/cache/references/jwst/jwst_miri_gain_0008.fits\n",
      "2019-09-10 16:12:08,865 - stpipe.Detector1Pipeline.ramp_fit - INFO - Using algorithm = ols\n",
      "2019-09-10 16:12:08,866 - stpipe.Detector1Pipeline.ramp_fit - INFO - Using weighting = optimal\n",
      "2019-09-10 16:12:08,915 - stpipe.Detector1Pipeline.ramp_fit - INFO - Number of leading groups that are flagged as DO_NOT_USE: 1\n",
      "2019-09-10 16:12:08,918 - stpipe.Detector1Pipeline.ramp_fit - INFO - MIRI dataset has all pixels in the final group flagged as DO_NOT_USE.\n",
      "2019-09-10 16:12:08,919 - stpipe.Detector1Pipeline.ramp_fit - INFO - Effective integration time per group: 0.15904\n",
      "2019-09-10 16:12:08,923 - stpipe.Detector1Pipeline.ramp_fit - INFO - Extracting gain subarray to match science data\n",
      "2019-09-10 16:12:19,358 - stpipe.Detector1Pipeline.ramp_fit - INFO - Number of groups per integration: 10\n",
      "2019-09-10 16:12:19,359 - stpipe.Detector1Pipeline.ramp_fit - INFO - Number of integrations: 6\n",
      "2019-09-10 16:12:19,387 - stpipe.Detector1Pipeline.ramp_fit - INFO - Step ramp_fit done\n",
      "2019-09-10 16:12:19,444 - stpipe.Detector1Pipeline.gain_scale - INFO - Step gain_scale running with args (<ImageModel(416, 72) from test_dark_current.fits>,).\n",
      "2019-09-10 16:12:19,491 - stpipe.Detector1Pipeline.gain_scale - INFO - GAINFACT not found in gain reference file\n",
      "2019-09-10 16:12:19,492 - stpipe.Detector1Pipeline.gain_scale - INFO - Step will be skipped\n",
      "2019-09-10 16:12:19,495 - stpipe.Detector1Pipeline.gain_scale - INFO - Step gain_scale done\n",
      "2019-09-10 16:12:19,546 - stpipe.Detector1Pipeline.gain_scale - INFO - Step gain_scale running with args (<CubeModel(6, 416, 72) from test_dark_current.fits>,).\n",
      "2019-09-10 16:12:19,590 - stpipe.Detector1Pipeline.gain_scale - INFO - GAINFACT not found in gain reference file\n",
      "2019-09-10 16:12:19,590 - stpipe.Detector1Pipeline.gain_scale - INFO - Step will be skipped\n",
      "2019-09-10 16:12:19,593 - stpipe.Detector1Pipeline.gain_scale - INFO - Step gain_scale done\n",
      "2019-09-10 16:12:19,594 - stpipe.Detector1Pipeline - INFO - ... ending calwebb_detector1\n",
      "2019-09-10 16:12:19,595 - stpipe.Detector1Pipeline - INFO - Step Detector1Pipeline done\n"
     ]
    },
    {
     "data": {
      "text/plain": [
       "<ImageModel(416, 72) from test_dark_current.fits>"
      ]
     },
     "execution_count": 8,
     "metadata": {},
     "output_type": "execute_result"
    }
   ],
   "source": [
    "output_model = Detector1Pipeline.call(\"test.fits\", config_file='cfgs/calwebb_detector1_with_save.cfg')\n",
    "output_model"
   ]
  },
  {
   "cell_type": "code",
   "execution_count": 9,
   "metadata": {},
   "outputs": [
    {
     "name": "stdout",
     "output_type": "stream",
     "text": [
      "test_dark_current.fits\r\n"
     ]
    }
   ],
   "source": [
    "!ls test_dark_current.fits   # you should see a file since you set save_results=True"
   ]
  },
  {
   "cell_type": "code",
   "execution_count": 10,
   "metadata": {},
   "outputs": [
    {
     "data": {
      "image/png": "[encoded data removed]",
      "text/plain": [
       "<Figure size 864x864 with 2 Axes>"
      ]
     },
     "metadata": {
      "needs_background": "light"
     },
     "output_type": "display_data"
    }
   ],
   "source": [
    "plot_image(output_model.data)"
   ]
  },
  {
   "cell_type": "code",
   "execution_count": 11,
   "metadata": {},
   "outputs": [
    {
     "data": {
      "image/png": "[encoded data removed]",
      "text/plain": [
       "<Figure size 864x864 with 2 Axes>"
      ]
     },
     "metadata": {
      "needs_background": "light"
     },
     "output_type": "display_data"
    }
   ],
   "source": [
    "plot_image(\"test_dark_current.fits\", index=(0,0))"
   ]
  },
  {
   "cell_type": "markdown",
   "metadata": {},
   "source": [
    "***\n",
    "<a id=\"pipeline_no_configs\"></a>\n",
    "## Run Pipeline with Parameters Set Programmatically\n",
    "\n",
    "You can also run the pipeline without relying on configuration files by setting parameters programmatically, and relying on the defaults in the pipeline.\n",
    "\n",
    "**NOTE:**  Before running this step, *remove* the save_results from your calwebb_detector1.cfg file so that it's clear that the programmatic setting below was responsible for the save."
   ]
  },
  {
   "cell_type": "code",
   "execution_count": 12,
   "metadata": {},
   "outputs": [
    {
     "name": "stderr",
     "output_type": "stream",
     "text": [
      "2019-09-10 16:12:20,578 - stpipe.Detector1Pipeline - INFO - Detector1Pipeline instance created.\n",
      "2019-09-10 16:12:20,580 - stpipe.Detector1Pipeline.group_scale - INFO - GroupScaleStep instance created.\n",
      "2019-09-10 16:12:20,583 - stpipe.Detector1Pipeline.dq_init - INFO - DQInitStep instance created.\n",
      "2019-09-10 16:12:20,586 - stpipe.Detector1Pipeline.saturation - INFO - SaturationStep instance created.\n",
      "2019-09-10 16:12:20,590 - stpipe.Detector1Pipeline.ipc - INFO - IPCStep instance created.\n",
      "2019-09-10 16:12:20,593 - stpipe.Detector1Pipeline.superbias - INFO - SuperBiasStep instance created.\n",
      "2019-09-10 16:12:20,596 - stpipe.Detector1Pipeline.refpix - INFO - RefPixStep instance created.\n",
      "2019-09-10 16:12:20,599 - stpipe.Detector1Pipeline.rscd - INFO - RSCD_Step instance created.\n",
      "2019-09-10 16:12:20,603 - stpipe.Detector1Pipeline.firstframe - INFO - FirstFrameStep instance created.\n",
      "2019-09-10 16:12:20,605 - stpipe.Detector1Pipeline.lastframe - INFO - LastFrameStep instance created.\n",
      "2019-09-10 16:12:20,607 - stpipe.Detector1Pipeline.linearity - INFO - LinearityStep instance created.\n",
      "2019-09-10 16:12:20,611 - stpipe.Detector1Pipeline.dark_current - INFO - DarkCurrentStep instance created.\n",
      "2019-09-10 16:12:20,615 - stpipe.Detector1Pipeline.persistence - INFO - PersistenceStep instance created.\n",
      "2019-09-10 16:12:20,618 - stpipe.Detector1Pipeline.jump - INFO - JumpStep instance created.\n",
      "2019-09-10 16:12:20,622 - stpipe.Detector1Pipeline.ramp_fit - INFO - RampFitStep instance created.\n",
      "2019-09-10 16:12:20,625 - stpipe.Detector1Pipeline.gain_scale - INFO - GainScaleStep instance created.\n",
      "2019-09-10 16:12:20,716 - stpipe.Detector1Pipeline - INFO - Step Detector1Pipeline running with args ('test.fits',).\n",
      "2019-09-10 16:12:20,879 - stpipe.Detector1Pipeline - WARNING - /Users/jmiller/miniconda3/envs/crds-env/lib/python3.7/site-packages/jwst/datamodels/util.py:165: NoTypeWarning: model_type not found. Opening test.fits as a RampModel\n",
      "  warnings.warn(errmsg, NoTypeWarning)\n",
      "\n",
      "2019-09-10 16:12:20,881 - stpipe.Detector1Pipeline - INFO - Prefetching reference files for dataset: 'test.fits' reftypes = ['dark', 'gain', 'ipc', 'linearity', 'mask', 'persat', 'readnoise', 'refpix', 'rscd', 'saturation', 'superbias', 'trapdensity', 'trappars']\n",
      "2019-09-10 16:12:20,908 - stpipe.Detector1Pipeline - INFO - Prefetch for DARK reference file is '/grp/crds/cache/references/jwst/jwst_miri_dark_0048.fits'.\n",
      "2019-09-10 16:12:20,912 - stpipe.Detector1Pipeline - INFO - Prefetch for GAIN reference file is '/grp/crds/cache/references/jwst/jwst_miri_gain_0008.fits'.\n",
      "2019-09-10 16:12:20,916 - stpipe.Detector1Pipeline - INFO - Prefetch for IPC reference file is '/grp/crds/cache/references/jwst/jwst_miri_ipc_0009.fits'.\n",
      "2019-09-10 16:12:20,918 - stpipe.Detector1Pipeline - INFO - Prefetch for LINEARITY reference file is '/grp/crds/cache/references/jwst/jwst_miri_linearity_0024.fits'.\n",
      "2019-09-10 16:12:20,920 - stpipe.Detector1Pipeline - INFO - Prefetch for MASK reference file is '/grp/crds/cache/references/jwst/jwst_miri_mask_0023.fits'.\n",
      "2019-09-10 16:12:20,922 - stpipe.Detector1Pipeline - INFO - Prefetch for PERSAT reference file is 'N/A'.\n",
      "2019-09-10 16:12:20,923 - stpipe.Detector1Pipeline - INFO - Prefetch for READNOISE reference file is '/grp/crds/cache/references/jwst/jwst_miri_readnoise_0039.fits'.\n",
      "2019-09-10 16:12:20,925 - stpipe.Detector1Pipeline - INFO - Prefetch for REFPIX reference file is 'N/A'.\n",
      "2019-09-10 16:12:20,926 - stpipe.Detector1Pipeline - INFO - Prefetch for RSCD reference file is '/grp/crds/cache/references/jwst/jwst_miri_rscd_0009.fits'.\n",
      "2019-09-10 16:12:20,929 - stpipe.Detector1Pipeline - INFO - Prefetch for SATURATION reference file is '/grp/crds/cache/references/jwst/jwst_miri_saturation_0022.fits'.\n",
      "2019-09-10 16:12:20,931 - stpipe.Detector1Pipeline - INFO - Prefetch for SUPERBIAS reference file is 'N/A'.\n",
      "2019-09-10 16:12:20,932 - stpipe.Detector1Pipeline - INFO - Prefetch for TRAPDENSITY reference file is 'N/A'.\n",
      "2019-09-10 16:12:20,933 - stpipe.Detector1Pipeline - INFO - Prefetch for TRAPPARS reference file is 'N/A'.\n",
      "2019-09-10 16:12:20,935 - stpipe.Detector1Pipeline - INFO - Starting calwebb_detector1 ...\n",
      "2019-09-10 16:12:21,153 - stpipe.Detector1Pipeline.group_scale - INFO - Step group_scale running with args (<RampModel(6, 10, 416, 72) from test.fits>,).\n",
      "2019-09-10 16:12:21,165 - stpipe.Detector1Pipeline.group_scale - INFO - NFRAMES and FRMDIVSR are equal; correction not needed\n",
      "2019-09-10 16:12:21,166 - stpipe.Detector1Pipeline.group_scale - INFO - Step will be skipped\n",
      "2019-09-10 16:12:21,168 - stpipe.Detector1Pipeline.group_scale - INFO - Step group_scale done\n",
      "2019-09-10 16:12:21,227 - stpipe.Detector1Pipeline.dq_init - INFO - Step dq_init running with args (<RampModel(6, 10, 416, 72) from test.fits>,).\n",
      "2019-09-10 16:12:21,242 - stpipe.Detector1Pipeline.dq_init - INFO - Using MASK reference file /grp/crds/cache/references/jwst/jwst_miri_mask_0023.fits\n",
      "2019-09-10 16:12:21,343 - stpipe.Detector1Pipeline.dq_init - INFO - Extracting mask subarray to match science data\n",
      "2019-09-10 16:12:21,353 - stpipe.Detector1Pipeline.dq_init - INFO - Step dq_init done\n",
      "2019-09-10 16:12:21,408 - stpipe.Detector1Pipeline - WARNING - /Users/jmiller/miniconda3/envs/crds-env/lib/python3.7/site-packages/jwst/stpipe/step.py:341: ResourceWarning: unclosed file <_io.FileIO name='test.fits' mode='rb' closefd=True>\n",
      "  gc.collect()\n",
      "\n",
      "2019-09-10 16:12:21,413 - stpipe.Detector1Pipeline.saturation - INFO - Step saturation running with args (<RampModel(6, 10, 416, 72) from test.fits>,).\n",
      "2019-09-10 16:12:21,433 - stpipe.Detector1Pipeline.saturation - INFO - Using SATURATION reference file /grp/crds/cache/references/jwst/jwst_miri_saturation_0022.fits\n",
      "2019-09-10 16:12:21,512 - stpipe.Detector1Pipeline.saturation - INFO - Extracting reference file subarray to match science data\n",
      "2019-09-10 16:12:21,534 - stpipe.Detector1Pipeline.saturation - INFO - Step saturation done\n",
      "2019-09-10 16:12:21,589 - stpipe.Detector1Pipeline.ipc - INFO - Step ipc running with args (<RampModel(6, 10, 416, 72) from test.fits>,).\n",
      "2019-09-10 16:12:21,608 - stpipe.Detector1Pipeline.ipc - INFO - Using IPC reference file /grp/crds/cache/references/jwst/jwst_miri_ipc_0009.fits\n",
      "2019-09-10 16:12:21,693 - stpipe.Detector1Pipeline.ipc - INFO - Step ipc done\n",
      "2019-09-10 16:12:21,752 - stpipe.Detector1Pipeline.firstframe - INFO - Step firstframe running with args (<RampModel(6, 10, 416, 72) from test.fits>,).\n",
      "2019-09-10 16:12:21,803 - stpipe.Detector1Pipeline.firstframe - INFO - Step firstframe done\n",
      "2019-09-10 16:12:21,861 - stpipe.Detector1Pipeline.lastframe - INFO - Step lastframe running with args (<RampModel(6, 10, 416, 72) from test.fits>,).\n",
      "2019-09-10 16:12:21,910 - stpipe.Detector1Pipeline.lastframe - INFO - Step lastframe done\n",
      "2019-09-10 16:12:21,969 - stpipe.Detector1Pipeline.linearity - INFO - Step linearity running with args (<RampModel(6, 10, 416, 72) from test.fits>,).\n",
      "2019-09-10 16:12:21,989 - stpipe.Detector1Pipeline.linearity - INFO - Using Linearity reference file /grp/crds/cache/references/jwst/jwst_miri_linearity_0024.fits\n",
      "2019-09-10 16:12:22,067 - stpipe.Detector1Pipeline.linearity - INFO - Extracting linearity subarray to match science data\n",
      "2019-09-10 16:12:22,102 - stpipe.Detector1Pipeline.linearity - INFO - Step linearity done\n",
      "2019-09-10 16:12:22,156 - stpipe.Detector1Pipeline.rscd - INFO - Step rscd running with args (<RampModel(6, 10, 416, 72) from test.fits>,).\n",
      "2019-09-10 16:12:22,180 - stpipe.Detector1Pipeline.rscd - INFO - Using RSCD reference file /grp/crds/cache/references/jwst/jwst_miri_rscd_0009.fits\n",
      "2019-09-10 16:12:22,250 - stpipe.Detector1Pipeline.rscd - INFO -  Working on integration 2\n",
      "2019-09-10 16:12:22,267 - stpipe.Detector1Pipeline.rscd - INFO -  Working on integration 3\n",
      "2019-09-10 16:12:22,282 - stpipe.Detector1Pipeline.rscd - INFO -  Working on integration 4\n",
      "2019-09-10 16:12:22,297 - stpipe.Detector1Pipeline.rscd - INFO -  Working on integration 5\n",
      "2019-09-10 16:12:22,309 - stpipe.Detector1Pipeline.rscd - INFO -  Working on integration 6\n",
      "2019-09-10 16:12:22,325 - stpipe.Detector1Pipeline.rscd - INFO - Step rscd done\n",
      "2019-09-10 16:12:22,383 - stpipe.Detector1Pipeline.dark_current - INFO - Step dark_current running with args (<RampModel(6, 10, 416, 72) from test.fits>,).\n"
     ]
    },
    {
     "name": "stderr",
     "output_type": "stream",
     "text": [
      "2019-09-10 16:12:22,401 - stpipe.Detector1Pipeline.dark_current - INFO - Using DARK reference file /grp/crds/cache/references/jwst/jwst_miri_dark_0048.fits\n",
      "2019-09-10 16:12:22,473 - stpipe.Detector1Pipeline.dark_current - INFO - Science data nints=6, ngroups=10, nframes=1, groupgap=0\n",
      "2019-09-10 16:12:22,474 - stpipe.Detector1Pipeline.dark_current - INFO - Dark data nints=2, ngroups=1000, nframes=1, groupgap=0\n",
      "2019-09-10 16:12:22,884 - stpipe.Detector1Pipeline.dark_current - INFO - Saved model in test_dark_current.fits\n",
      "2019-09-10 16:12:22,884 - stpipe.Detector1Pipeline.dark_current - INFO - Step dark_current done\n",
      "2019-09-10 16:12:22,940 - stpipe.Detector1Pipeline.refpix - INFO - Step refpix running with args (<RampModel(6, 10, 416, 72) from test_dark_current.fits>,).\n",
      "2019-09-10 16:12:22,951 - stpipe.Detector1Pipeline.refpix - INFO - use_side_ref_pixels = True\n",
      "2019-09-10 16:12:22,952 - stpipe.Detector1Pipeline.refpix - INFO - odd_even_columns = True\n",
      "2019-09-10 16:12:22,953 - stpipe.Detector1Pipeline.refpix - INFO - side_smoothing_length = 11\n",
      "2019-09-10 16:12:22,954 - stpipe.Detector1Pipeline.refpix - INFO - side_gain = 1.000000\n",
      "2019-09-10 16:12:22,954 - stpipe.Detector1Pipeline.refpix - INFO - odd_even_rows = True\n",
      "2019-09-10 16:12:22,996 - stpipe.Detector1Pipeline.refpix - WARNING - Refpix correction skipped for MIRI subarrays\n",
      "2019-09-10 16:12:22,998 - stpipe.Detector1Pipeline.refpix - INFO - Step refpix done\n",
      "2019-09-10 16:12:23,065 - stpipe.Detector1Pipeline.jump - INFO - Step jump running with args (<RampModel(6, 10, 416, 72) from test_dark_current.fits>,).\n",
      "2019-09-10 16:12:23,084 - stpipe.Detector1Pipeline.jump - INFO - CR rejection threshold = 4 sigma\n",
      "2019-09-10 16:12:23,091 - stpipe.Detector1Pipeline.jump - INFO - Using GAIN reference file: /grp/crds/cache/references/jwst/jwst_miri_gain_0008.fits\n",
      "2019-09-10 16:12:23,125 - stpipe.Detector1Pipeline.jump - INFO - Using READNOISE reference file: /grp/crds/cache/references/jwst/jwst_miri_readnoise_0039.fits\n",
      "2019-09-10 16:12:23,182 - stpipe.Detector1Pipeline.jump - INFO - Extracting gain subarray to match science data\n",
      "2019-09-10 16:12:23,189 - stpipe.Detector1Pipeline.jump - INFO - Executing two-point difference method\n",
      "2019-09-10 16:12:23,234 - stpipe.Detector1Pipeline.jump - INFO -  working on integration 1\n",
      "2019-09-10 16:12:23,249 - stpipe.Detector1Pipeline.jump - INFO - From highest outlier Two point found 24230 pixels with at least one CR\n",
      "2019-09-10 16:12:25,618 - stpipe.Detector1Pipeline.jump - INFO -  working on integration 2\n",
      "2019-09-10 16:12:25,631 - stpipe.Detector1Pipeline.jump - INFO - From highest outlier Two point found 19928 pixels with at least one CR\n",
      "2019-09-10 16:12:27,878 - stpipe.Detector1Pipeline.jump - INFO -  working on integration 3\n",
      "2019-09-10 16:12:27,889 - stpipe.Detector1Pipeline.jump - INFO - From highest outlier Two point found 22062 pixels with at least one CR\n",
      "2019-09-10 16:12:30,229 - stpipe.Detector1Pipeline.jump - INFO -  working on integration 4\n",
      "2019-09-10 16:12:30,239 - stpipe.Detector1Pipeline.jump - INFO - From highest outlier Two point found 24269 pixels with at least one CR\n",
      "2019-09-10 16:12:32,686 - stpipe.Detector1Pipeline.jump - INFO -  working on integration 5\n",
      "2019-09-10 16:12:32,698 - stpipe.Detector1Pipeline.jump - INFO - From highest outlier Two point found 22088 pixels with at least one CR\n",
      "2019-09-10 16:12:35,127 - stpipe.Detector1Pipeline.jump - INFO -  working on integration 6\n",
      "2019-09-10 16:12:35,138 - stpipe.Detector1Pipeline.jump - INFO - From highest outlier Two point found 19956 pixels with at least one CR\n",
      "2019-09-10 16:12:37,537 - stpipe.Detector1Pipeline.jump - INFO - The execution time in seconds: 14.452673\n",
      "2019-09-10 16:12:37,543 - stpipe.Detector1Pipeline.jump - INFO - Step jump done\n",
      "2019-09-10 16:12:37,599 - stpipe.Detector1Pipeline.ramp_fit - INFO - Step ramp_fit running with args (<RampModel(6, 10, 416, 72) from test_dark_current.fits>,).\n",
      "2019-09-10 16:12:37,667 - stpipe.Detector1Pipeline.ramp_fit - INFO - Using READNOISE reference file: /grp/crds/cache/references/jwst/jwst_miri_readnoise_0039.fits\n",
      "2019-09-10 16:12:37,709 - stpipe.Detector1Pipeline.ramp_fit - INFO - Using GAIN reference file: /grp/crds/cache/references/jwst/jwst_miri_gain_0008.fits\n",
      "2019-09-10 16:12:37,748 - stpipe.Detector1Pipeline.ramp_fit - INFO - Using algorithm = ols\n",
      "2019-09-10 16:12:37,749 - stpipe.Detector1Pipeline.ramp_fit - INFO - Using weighting = optimal\n",
      "2019-09-10 16:12:37,797 - stpipe.Detector1Pipeline.ramp_fit - INFO - Number of leading groups that are flagged as DO_NOT_USE: 1\n",
      "2019-09-10 16:12:37,799 - stpipe.Detector1Pipeline.ramp_fit - INFO - MIRI dataset has all pixels in the final group flagged as DO_NOT_USE.\n",
      "2019-09-10 16:12:37,800 - stpipe.Detector1Pipeline.ramp_fit - INFO - Effective integration time per group: 0.15904\n",
      "2019-09-10 16:12:37,804 - stpipe.Detector1Pipeline.ramp_fit - INFO - Extracting gain subarray to match science data\n",
      "2019-09-10 16:12:48,502 - stpipe.Detector1Pipeline.ramp_fit - INFO - Number of groups per integration: 10\n",
      "2019-09-10 16:12:48,503 - stpipe.Detector1Pipeline.ramp_fit - INFO - Number of integrations: 6\n",
      "2019-09-10 16:12:48,526 - stpipe.Detector1Pipeline.ramp_fit - INFO - Step ramp_fit done\n",
      "2019-09-10 16:12:48,585 - stpipe.Detector1Pipeline.gain_scale - INFO - Step gain_scale running with args (<ImageModel(416, 72) from test_dark_current.fits>,).\n",
      "2019-09-10 16:12:48,625 - stpipe.Detector1Pipeline.gain_scale - INFO - GAINFACT not found in gain reference file\n",
      "2019-09-10 16:12:48,626 - stpipe.Detector1Pipeline.gain_scale - INFO - Step will be skipped\n",
      "2019-09-10 16:12:48,629 - stpipe.Detector1Pipeline.gain_scale - INFO - Step gain_scale done\n",
      "2019-09-10 16:12:48,681 - stpipe.Detector1Pipeline.gain_scale - INFO - Step gain_scale running with args (<CubeModel(6, 416, 72) from test_dark_current.fits>,).\n",
      "2019-09-10 16:12:48,718 - stpipe.Detector1Pipeline.gain_scale - INFO - GAINFACT not found in gain reference file\n",
      "2019-09-10 16:12:48,719 - stpipe.Detector1Pipeline.gain_scale - INFO - Step will be skipped\n",
      "2019-09-10 16:12:48,722 - stpipe.Detector1Pipeline.gain_scale - INFO - Step gain_scale done\n",
      "2019-09-10 16:12:48,723 - stpipe.Detector1Pipeline - INFO - ... ending calwebb_detector1\n",
      "2019-09-10 16:12:48,724 - stpipe.Detector1Pipeline - INFO - Step Detector1Pipeline done\n"
     ]
    },
    {
     "data": {
      "text/plain": [
       "<ImageModel(416, 72) from test_dark_current.fits>"
      ]
     },
     "execution_count": 12,
     "metadata": {},
     "output_type": "execute_result"
    }
   ],
   "source": [
    "! rm -f test_dark_current.fits   # remove the dark current output,  we'll recreate it another way...\n",
    "\n",
    "det1p = Detector1Pipeline()\n",
    "det1p.dark_current.save_results = True\n",
    "det1p.run(\"test.fits\")"
   ]
  },
  {
   "cell_type": "markdown",
   "metadata": {},
   "source": [
    "Setting save_results=True results in the output of the test_dark_current.fits file which can be passed into the PersistenceStep when run in isolation, next."
   ]
  },
  {
   "cell_type": "code",
   "execution_count": 13,
   "metadata": {},
   "outputs": [
    {
     "name": "stdout",
     "output_type": "stream",
     "text": [
      "test_dark_current.fits\r\n"
     ]
    }
   ],
   "source": [
    "! ls test_dark_current.fits   # make sure save_results worked."
   ]
  },
  {
   "cell_type": "markdown",
   "metadata": {},
   "source": [
    "***\n",
    "<a id=\"steps_with_config_files\"></a>\n",
    "## Run Individual Steps with Configuration Files\n",
    "\n",
    "You can also change parameter values in the .cfg files for individual Steps.\n",
    "\n",
    "Edit the cfgs/persistence.cfg file and change:\n",
    "\n",
    "```\n",
    "   input_trapsfilled = \"\"\n",
    "   flag_pers_cutoff = 40.\n",
    "   save_persistence = False\n",
    "```\n",
    "\n",
    "to:\n",
    "\n",
    "```\n",
    "   input_trapsfilled = \"\"\n",
    "   flag_pers_cutoff = 40.\n",
    "   save_persistence = True\n",
    "```\n",
    "\n",
    "This will cause PersistenceStep to output a third output file with suffix “_output_pers”. \n",
    "\n",
    "See https://jwst-pipeline.readthedocs.io/en/latest/jwst/persistence/description.html\n",
    "for more information on the persistence step."
   ]
  },
  {
   "cell_type": "code",
   "execution_count": 14,
   "metadata": {},
   "outputs": [
    {
     "name": "stdout",
     "output_type": "stream",
     "text": [
      "name = \"persistence\"\r\n",
      "class = \"jwst.persistence.PersistenceStep\"\r\n",
      "\r\n",
      "input_trapsfilled = \"\"\r\n",
      "flag_pers_cutoff = 40.\r\n",
      "save_persistence = True\r\n"
     ]
    }
   ],
   "source": [
    "# This cell is pretending to be you creating and editing a new .cfg file.\n",
    "\n",
    "# Don't sweat it, use an editor or the programmatic method if you'd prefer code.  This is not what you normally do.\n",
    "\n",
    "! cp cfgs/persistence.cfg  cfgs/persistence_with_out_pers_save.cfg\n",
    "! perl -pi -e's/save_persistence = False/save_persistence = True/g' cfgs/persistence_with_out_pers_save.cfg\n",
    "! cat cfgs/persistence_with_out_pers_save.cfg\n",
    "\n",
    "# And the result is..."
   ]
  },
  {
   "cell_type": "code",
   "execution_count": 15,
   "metadata": {},
   "outputs": [
    {
     "name": "stderr",
     "output_type": "stream",
     "text": [
      "2019-09-10 16:12:49,263 - stpipe.persistence - INFO - PersistenceStep instance created.\n",
      "2019-09-10 16:12:49,337 - stpipe.persistence - INFO - Step persistence running with args ('test_dark_current.fits',).\n",
      "2019-09-10 16:12:49,588 - stpipe.persistence - WARNING - Missing reference file types:  PERSAT TRAPDENSITY TRAPPARS\n",
      "2019-09-10 16:12:49,592 - stpipe.persistence - INFO - Step persistence done\n"
     ]
    },
    {
     "data": {
      "text/plain": [
       "<RampModel(6, 10, 416, 72) from test_dark_current.fits>"
      ]
     },
     "execution_count": 15,
     "metadata": {},
     "output_type": "execute_result"
    }
   ],
   "source": [
    "from jwst.persistence.persistence_step import PersistenceStep\n",
    "\n",
    "output_model = PersistenceStep.call(\"test_dark_current.fits\", config_file=\"cfgs/persistence_with_out_pers_save.cfg\")\n",
    "\n",
    "output_model"
   ]
  },
  {
   "cell_type": "code",
   "execution_count": 16,
   "metadata": {},
   "outputs": [
    {
     "name": "stdout",
     "output_type": "stream",
     "text": [
      "test.fits              test_dark_current.fits\r\n"
     ]
    }
   ],
   "source": [
    "! ls *.fits    # save_persistence may not be working..."
   ]
  },
  {
   "cell_type": "markdown",
   "metadata": {},
   "source": [
    "***\n",
    "<a id=\"pipelines_level_123\"></a>\n",
    "## Run Level 1, 2, 3, Pipelines in Succession"
   ]
  },
  {
   "cell_type": "markdown",
   "metadata": {},
   "source": [
    "This section runs the test data through all stages of processing,  chaining the output of each processing level to the input of the next.   Output can optionally be saved to a file.   Alternatively,  in-memory pipeline output can\n",
    "be passed directly to the next level.\n",
    "\n",
    "Documentation on all JWST CAL pipelines can be found here: https://jwst-pipeline.readthedocs.io/en/latest/jwst/pipeline/main.html#pipelines"
   ]
  },
  {
   "cell_type": "markdown",
   "metadata": {},
   "source": [
    "### Run Level 1\n",
    "\n",
    "Stage 1 consists of detector-level corrections that are performed on a group-by-group basis, followed by ramp fitting. The output of stage 1 processing is a countrate image per exposure, or per integration for some modes. "
   ]
  },
  {
   "cell_type": "code",
   "execution_count": 17,
   "metadata": {},
   "outputs": [
    {
     "name": "stderr",
     "output_type": "stream",
     "text": [
      "2019-09-10 16:12:49,751 - stpipe.Detector1Pipeline - INFO - Detector1Pipeline instance created.\n",
      "2019-09-10 16:12:49,752 - stpipe.Detector1Pipeline.group_scale - INFO - GroupScaleStep instance created.\n",
      "2019-09-10 16:12:49,754 - stpipe.Detector1Pipeline.dq_init - INFO - DQInitStep instance created.\n",
      "2019-09-10 16:12:49,756 - stpipe.Detector1Pipeline.saturation - INFO - SaturationStep instance created.\n",
      "2019-09-10 16:12:49,758 - stpipe.Detector1Pipeline.ipc - INFO - IPCStep instance created.\n",
      "2019-09-10 16:12:49,759 - stpipe.Detector1Pipeline.superbias - INFO - SuperBiasStep instance created.\n",
      "2019-09-10 16:12:49,761 - stpipe.Detector1Pipeline.refpix - INFO - RefPixStep instance created.\n",
      "2019-09-10 16:12:49,763 - stpipe.Detector1Pipeline.rscd - INFO - RSCD_Step instance created.\n",
      "2019-09-10 16:12:49,764 - stpipe.Detector1Pipeline.firstframe - INFO - FirstFrameStep instance created.\n",
      "2019-09-10 16:12:49,766 - stpipe.Detector1Pipeline.lastframe - INFO - LastFrameStep instance created.\n",
      "2019-09-10 16:12:49,768 - stpipe.Detector1Pipeline.linearity - INFO - LinearityStep instance created.\n",
      "2019-09-10 16:12:49,770 - stpipe.Detector1Pipeline.dark_current - INFO - DarkCurrentStep instance created.\n",
      "2019-09-10 16:12:49,772 - stpipe.Detector1Pipeline.persistence - INFO - PersistenceStep instance created.\n",
      "2019-09-10 16:12:49,774 - stpipe.Detector1Pipeline.jump - INFO - JumpStep instance created.\n",
      "2019-09-10 16:12:49,775 - stpipe.Detector1Pipeline.ramp_fit - INFO - RampFitStep instance created.\n",
      "2019-09-10 16:12:49,777 - stpipe.Detector1Pipeline.gain_scale - INFO - GainScaleStep instance created.\n",
      "2019-09-10 16:12:49,849 - stpipe - WARNING - /Users/jmiller/miniconda3/envs/crds-env/lib/python3.7/site-packages/jwst/stpipe/step.py:341: ResourceWarning: unclosed file <_io.FileIO name='test_dark_current.fits' mode='rb' closefd=True>\n",
      "  gc.collect()\n",
      "\n",
      "2019-09-10 16:12:49,852 - stpipe.Detector1Pipeline - INFO - Step Detector1Pipeline running with args ('test.fits',).\n",
      "2019-09-10 16:12:50,014 - stpipe.Detector1Pipeline - WARNING - /Users/jmiller/miniconda3/envs/crds-env/lib/python3.7/site-packages/jwst/datamodels/util.py:165: NoTypeWarning: model_type not found. Opening test.fits as a RampModel\n",
      "  warnings.warn(errmsg, NoTypeWarning)\n",
      "\n",
      "2019-09-10 16:12:50,015 - stpipe.Detector1Pipeline - INFO - Prefetching reference files for dataset: 'test.fits' reftypes = ['dark', 'gain', 'linearity', 'mask', 'persat', 'readnoise', 'refpix', 'rscd', 'saturation', 'superbias', 'trapdensity', 'trappars']\n",
      "2019-09-10 16:12:50,041 - stpipe.Detector1Pipeline - INFO - Prefetch for DARK reference file is '/grp/crds/cache/references/jwst/jwst_miri_dark_0048.fits'.\n",
      "2019-09-10 16:12:50,047 - stpipe.Detector1Pipeline - INFO - Prefetch for GAIN reference file is '/grp/crds/cache/references/jwst/jwst_miri_gain_0008.fits'.\n",
      "2019-09-10 16:12:50,050 - stpipe.Detector1Pipeline - INFO - Prefetch for LINEARITY reference file is '/grp/crds/cache/references/jwst/jwst_miri_linearity_0024.fits'.\n",
      "2019-09-10 16:12:50,054 - stpipe.Detector1Pipeline - INFO - Prefetch for MASK reference file is '/grp/crds/cache/references/jwst/jwst_miri_mask_0023.fits'.\n",
      "2019-09-10 16:12:50,058 - stpipe.Detector1Pipeline - INFO - Prefetch for PERSAT reference file is 'N/A'.\n",
      "2019-09-10 16:12:50,059 - stpipe.Detector1Pipeline - INFO - Prefetch for READNOISE reference file is '/grp/crds/cache/references/jwst/jwst_miri_readnoise_0039.fits'.\n",
      "2019-09-10 16:12:50,061 - stpipe.Detector1Pipeline - INFO - Prefetch for REFPIX reference file is 'N/A'.\n",
      "2019-09-10 16:12:50,062 - stpipe.Detector1Pipeline - INFO - Prefetch for RSCD reference file is '/grp/crds/cache/references/jwst/jwst_miri_rscd_0009.fits'.\n",
      "2019-09-10 16:12:50,067 - stpipe.Detector1Pipeline - INFO - Prefetch for SATURATION reference file is '/grp/crds/cache/references/jwst/jwst_miri_saturation_0022.fits'.\n",
      "2019-09-10 16:12:50,072 - stpipe.Detector1Pipeline - INFO - Prefetch for SUPERBIAS reference file is 'N/A'.\n",
      "2019-09-10 16:12:50,073 - stpipe.Detector1Pipeline - INFO - Prefetch for TRAPDENSITY reference file is 'N/A'.\n",
      "2019-09-10 16:12:50,073 - stpipe.Detector1Pipeline - INFO - Prefetch for TRAPPARS reference file is 'N/A'.\n",
      "2019-09-10 16:12:50,075 - stpipe.Detector1Pipeline - INFO - Starting calwebb_detector1 ...\n",
      "2019-09-10 16:12:50,286 - stpipe.Detector1Pipeline.group_scale - INFO - Step group_scale running with args (<RampModel(6, 10, 416, 72) from test.fits>,).\n",
      "2019-09-10 16:12:50,295 - stpipe.Detector1Pipeline.group_scale - INFO - NFRAMES and FRMDIVSR are equal; correction not needed\n",
      "2019-09-10 16:12:50,296 - stpipe.Detector1Pipeline.group_scale - INFO - Step will be skipped\n",
      "2019-09-10 16:12:50,297 - stpipe.Detector1Pipeline.group_scale - INFO - Step group_scale done\n",
      "2019-09-10 16:12:50,353 - stpipe.Detector1Pipeline.dq_init - INFO - Step dq_init running with args (<RampModel(6, 10, 416, 72) from test.fits>,).\n",
      "2019-09-10 16:12:50,368 - stpipe.Detector1Pipeline.dq_init - INFO - Using MASK reference file /grp/crds/cache/references/jwst/jwst_miri_mask_0023.fits\n",
      "2019-09-10 16:12:50,687 - stpipe.Detector1Pipeline.dq_init - INFO - Extracting mask subarray to match science data\n",
      "2019-09-10 16:12:50,696 - stpipe.Detector1Pipeline.dq_init - INFO - Step dq_init done\n",
      "2019-09-10 16:12:50,751 - stpipe.Detector1Pipeline - WARNING - /Users/jmiller/miniconda3/envs/crds-env/lib/python3.7/site-packages/jwst/stpipe/step.py:341: ResourceWarning: unclosed file <_io.FileIO name='test.fits' mode='rb' closefd=True>\n",
      "  gc.collect()\n",
      "\n",
      "2019-09-10 16:12:50,756 - stpipe.Detector1Pipeline.saturation - INFO - Step saturation running with args (<RampModel(6, 10, 416, 72) from test.fits>,).\n",
      "2019-09-10 16:12:50,770 - stpipe.Detector1Pipeline.saturation - INFO - Using SATURATION reference file /grp/crds/cache/references/jwst/jwst_miri_saturation_0022.fits\n",
      "2019-09-10 16:12:51,002 - stpipe.Detector1Pipeline.saturation - INFO - Extracting reference file subarray to match science data\n",
      "2019-09-10 16:12:51,155 - stpipe.Detector1Pipeline.saturation - INFO - Step saturation done\n",
      "2019-09-10 16:12:51,210 - stpipe.Detector1Pipeline.ipc - INFO - Step ipc running with args (<RampModel(6, 10, 416, 72) from test.fits>,).\n",
      "2019-09-10 16:12:51,211 - stpipe.Detector1Pipeline.ipc - INFO - Step skipped.\n",
      "2019-09-10 16:12:51,212 - stpipe.Detector1Pipeline.ipc - INFO - Step ipc done\n",
      "2019-09-10 16:12:51,267 - stpipe.Detector1Pipeline.firstframe - INFO - Step firstframe running with args (<RampModel(6, 10, 416, 72) from test.fits>,).\n",
      "2019-09-10 16:12:51,300 - stpipe.Detector1Pipeline.firstframe - INFO - Step firstframe done\n",
      "2019-09-10 16:12:51,354 - stpipe.Detector1Pipeline.lastframe - INFO - Step lastframe running with args (<RampModel(6, 10, 416, 72) from test.fits>,).\n",
      "2019-09-10 16:12:51,388 - stpipe.Detector1Pipeline.lastframe - INFO - Step lastframe done\n",
      "2019-09-10 16:12:51,443 - stpipe.Detector1Pipeline.linearity - INFO - Step linearity running with args (<RampModel(6, 10, 416, 72) from test.fits>,).\n",
      "2019-09-10 16:12:51,456 - stpipe.Detector1Pipeline.linearity - INFO - Using Linearity reference file /grp/crds/cache/references/jwst/jwst_miri_linearity_0024.fits\n",
      "2019-09-10 16:12:52,003 - stpipe.Detector1Pipeline.linearity - INFO - Extracting linearity subarray to match science data\n",
      "2019-09-10 16:12:52,611 - stpipe.Detector1Pipeline.linearity - INFO - Step linearity done\n",
      "2019-09-10 16:12:52,668 - stpipe.Detector1Pipeline.rscd - INFO - Step rscd running with args (<RampModel(6, 10, 416, 72) from test.fits>,).\n",
      "2019-09-10 16:12:52,683 - stpipe.Detector1Pipeline.rscd - INFO - Using RSCD reference file /grp/crds/cache/references/jwst/jwst_miri_rscd_0009.fits\n",
      "2019-09-10 16:12:52,744 - stpipe.Detector1Pipeline.rscd - INFO -  Working on integration 2\n",
      "2019-09-10 16:12:52,758 - stpipe.Detector1Pipeline.rscd - INFO -  Working on integration 3\n",
      "2019-09-10 16:12:52,770 - stpipe.Detector1Pipeline.rscd - INFO -  Working on integration 4\n",
      "2019-09-10 16:12:52,783 - stpipe.Detector1Pipeline.rscd - INFO -  Working on integration 5\n",
      "2019-09-10 16:12:52,794 - stpipe.Detector1Pipeline.rscd - INFO -  Working on integration 6\n",
      "2019-09-10 16:12:52,811 - stpipe.Detector1Pipeline.rscd - INFO - Step rscd done\n",
      "2019-09-10 16:12:52,865 - stpipe.Detector1Pipeline.dark_current - INFO - Step dark_current running with args (<RampModel(6, 10, 416, 72) from test.fits>,).\n"
     ]
    },
    {
     "name": "stderr",
     "output_type": "stream",
     "text": [
      "2019-09-10 16:12:52,879 - stpipe.Detector1Pipeline.dark_current - INFO - Using DARK reference file /grp/crds/cache/references/jwst/jwst_miri_dark_0048.fits\n",
      "2019-09-10 16:12:53,113 - stpipe.Detector1Pipeline.dark_current - INFO - Science data nints=6, ngroups=10, nframes=1, groupgap=0\n",
      "2019-09-10 16:12:53,113 - stpipe.Detector1Pipeline.dark_current - INFO - Dark data nints=2, ngroups=1000, nframes=1, groupgap=0\n",
      "2019-09-10 16:13:07,880 - stpipe.Detector1Pipeline.dark_current - INFO - Step dark_current done\n",
      "2019-09-10 16:13:07,956 - stpipe.Detector1Pipeline.refpix - INFO - Step refpix running with args (<RampModel(6, 10, 416, 72) from test.fits>,).\n",
      "2019-09-10 16:13:07,967 - stpipe.Detector1Pipeline.refpix - INFO - use_side_ref_pixels = True\n",
      "2019-09-10 16:13:07,968 - stpipe.Detector1Pipeline.refpix - INFO - odd_even_columns = True\n",
      "2019-09-10 16:13:07,968 - stpipe.Detector1Pipeline.refpix - INFO - side_smoothing_length = 11\n",
      "2019-09-10 16:13:07,969 - stpipe.Detector1Pipeline.refpix - INFO - side_gain = 1.000000\n",
      "2019-09-10 16:13:07,970 - stpipe.Detector1Pipeline.refpix - INFO - odd_even_rows = True\n",
      "2019-09-10 16:13:08,002 - stpipe.Detector1Pipeline.refpix - WARNING - Refpix correction skipped for MIRI subarrays\n",
      "2019-09-10 16:13:08,004 - stpipe.Detector1Pipeline.refpix - INFO - Step refpix done\n",
      "2019-09-10 16:13:08,064 - stpipe.Detector1Pipeline.jump - INFO - Step jump running with args (<RampModel(6, 10, 416, 72) from test.fits>,).\n",
      "2019-09-10 16:13:08,075 - stpipe.Detector1Pipeline.jump - INFO - CR rejection threshold = 4 sigma\n",
      "2019-09-10 16:13:08,104 - stpipe.Detector1Pipeline.jump - INFO - Using GAIN reference file: /grp/crds/cache/references/jwst/jwst_miri_gain_0008.fits\n",
      "2019-09-10 16:13:08,217 - stpipe.Detector1Pipeline.jump - INFO - Using READNOISE reference file: /grp/crds/cache/references/jwst/jwst_miri_readnoise_0039.fits\n",
      "2019-09-10 16:13:08,307 - stpipe.Detector1Pipeline.jump - INFO - Extracting gain subarray to match science data\n",
      "2019-09-10 16:13:08,460 - stpipe.Detector1Pipeline.jump - INFO - Executing two-point difference method\n",
      "2019-09-10 16:13:08,503 - stpipe.Detector1Pipeline.jump - INFO -  working on integration 1\n",
      "2019-09-10 16:13:08,518 - stpipe.Detector1Pipeline.jump - INFO - From highest outlier Two point found 24230 pixels with at least one CR\n",
      "2019-09-10 16:13:11,097 - stpipe.Detector1Pipeline.jump - INFO -  working on integration 2\n",
      "2019-09-10 16:13:11,111 - stpipe.Detector1Pipeline.jump - INFO - From highest outlier Two point found 19928 pixels with at least one CR\n",
      "2019-09-10 16:13:13,573 - stpipe.Detector1Pipeline.jump - INFO -  working on integration 3\n",
      "2019-09-10 16:13:13,585 - stpipe.Detector1Pipeline.jump - INFO - From highest outlier Two point found 22062 pixels with at least one CR\n",
      "2019-09-10 16:13:16,061 - stpipe.Detector1Pipeline.jump - INFO -  working on integration 4\n",
      "2019-09-10 16:13:16,072 - stpipe.Detector1Pipeline.jump - INFO - From highest outlier Two point found 24269 pixels with at least one CR\n",
      "2019-09-10 16:13:18,621 - stpipe.Detector1Pipeline.jump - INFO -  working on integration 5\n",
      "2019-09-10 16:13:18,634 - stpipe.Detector1Pipeline.jump - INFO - From highest outlier Two point found 22088 pixels with at least one CR\n",
      "2019-09-10 16:13:21,246 - stpipe.Detector1Pipeline.jump - INFO -  working on integration 6\n",
      "2019-09-10 16:13:21,262 - stpipe.Detector1Pipeline.jump - INFO - From highest outlier Two point found 19956 pixels with at least one CR\n",
      "2019-09-10 16:13:23,745 - stpipe.Detector1Pipeline.jump - INFO - The execution time in seconds: 15.670184\n",
      "2019-09-10 16:13:23,749 - stpipe.Detector1Pipeline.jump - INFO - Step jump done\n",
      "2019-09-10 16:13:23,807 - stpipe.Detector1Pipeline.ramp_fit - INFO - Step ramp_fit running with args (<RampModel(6, 10, 416, 72) from test.fits>,).\n",
      "2019-09-10 16:13:23,840 - stpipe.Detector1Pipeline.ramp_fit - INFO - Using READNOISE reference file: /grp/crds/cache/references/jwst/jwst_miri_readnoise_0039.fits\n",
      "2019-09-10 16:13:23,878 - stpipe.Detector1Pipeline.ramp_fit - INFO - Using GAIN reference file: /grp/crds/cache/references/jwst/jwst_miri_gain_0008.fits\n",
      "2019-09-10 16:13:23,913 - stpipe.Detector1Pipeline.ramp_fit - INFO - Using algorithm = ols\n",
      "2019-09-10 16:13:23,914 - stpipe.Detector1Pipeline.ramp_fit - INFO - Using weighting = optimal\n",
      "2019-09-10 16:13:23,969 - stpipe.Detector1Pipeline.ramp_fit - INFO - Number of leading groups that are flagged as DO_NOT_USE: 1\n",
      "2019-09-10 16:13:23,972 - stpipe.Detector1Pipeline.ramp_fit - INFO - MIRI dataset has all pixels in the final group flagged as DO_NOT_USE.\n",
      "2019-09-10 16:13:23,973 - stpipe.Detector1Pipeline.ramp_fit - INFO - Effective integration time per group: 0.15904\n",
      "2019-09-10 16:13:23,977 - stpipe.Detector1Pipeline.ramp_fit - INFO - Extracting gain subarray to match science data\n",
      "2019-09-10 16:13:34,264 - stpipe.Detector1Pipeline.ramp_fit - INFO - Number of groups per integration: 10\n",
      "2019-09-10 16:13:34,265 - stpipe.Detector1Pipeline.ramp_fit - INFO - Number of integrations: 6\n",
      "2019-09-10 16:13:34,289 - stpipe.Detector1Pipeline.ramp_fit - INFO - Step ramp_fit done\n",
      "2019-09-10 16:13:34,357 - stpipe.Detector1Pipeline.gain_scale - INFO - Step gain_scale running with args (<ImageModel(416, 72) from test.fits>,).\n",
      "2019-09-10 16:13:34,416 - stpipe.Detector1Pipeline.gain_scale - INFO - GAINFACT not found in gain reference file\n",
      "2019-09-10 16:13:34,417 - stpipe.Detector1Pipeline.gain_scale - INFO - Step will be skipped\n",
      "2019-09-10 16:13:34,420 - stpipe.Detector1Pipeline.gain_scale - INFO - Step gain_scale done\n",
      "2019-09-10 16:13:34,483 - stpipe.Detector1Pipeline.gain_scale - INFO - Step gain_scale running with args (<CubeModel(6, 416, 72) from test.fits>,).\n",
      "2019-09-10 16:13:34,526 - stpipe.Detector1Pipeline.gain_scale - INFO - GAINFACT not found in gain reference file\n",
      "2019-09-10 16:13:34,526 - stpipe.Detector1Pipeline.gain_scale - INFO - Step will be skipped\n",
      "2019-09-10 16:13:34,529 - stpipe.Detector1Pipeline.gain_scale - INFO - Step gain_scale done\n",
      "2019-09-10 16:13:34,530 - stpipe.Detector1Pipeline - INFO - ... ending calwebb_detector1\n",
      "2019-09-10 16:13:34,531 - stpipe.Detector1Pipeline - INFO - Step Detector1Pipeline done\n"
     ]
    }
   ],
   "source": [
    "output1 = Detector1Pipeline.call(\"test.fits\", config_file=\"cfgs/calwebb_detector1.cfg\")"
   ]
  },
  {
   "cell_type": "markdown",
   "metadata": {},
   "source": [
    "### Run Level 2\n",
    "\n",
    "Stage 2 processing consists of additional instrument-level and observing-mode corrections and calibrations to produce fully calibrated exposures. The details differ for imaging and spectroscopic exposures, and there are some corrections that are unique to certain instruments or modes. "
   ]
  },
  {
   "cell_type": "code",
   "execution_count": 18,
   "metadata": {},
   "outputs": [
    {
     "name": "stderr",
     "output_type": "stream",
     "text": [
      "2019-09-10 16:13:34,552 - stpipe.Image2Pipeline - INFO - Image2Pipeline instance created.\n",
      "2019-09-10 16:13:34,554 - stpipe.Image2Pipeline.bkg_subtract - INFO - BackgroundStep instance created.\n",
      "2019-09-10 16:13:34,557 - stpipe.Image2Pipeline.assign_wcs - INFO - AssignWcsStep instance created.\n",
      "2019-09-10 16:13:34,559 - stpipe.Image2Pipeline.flat_field - INFO - FlatFieldStep instance created.\n",
      "2019-09-10 16:13:34,561 - stpipe.Image2Pipeline.photom - INFO - PhotomStep instance created.\n",
      "2019-09-10 16:13:34,562 - stpipe.Image2Pipeline.resample - INFO - ResampleStep instance created.\n",
      "2019-09-10 16:13:34,630 - stpipe.Image2Pipeline - INFO - Step Image2Pipeline running with args (<ImageModel(416, 72) from test.fits>,).\n",
      "2019-09-10 16:13:34,641 - stpipe.Image2Pipeline - INFO - Prefetching reference files for dataset: 'test.fits' reftypes = ['area', 'camera', 'collimator', 'dflat', 'disperser', 'distortion', 'drizpars', 'fflat', 'filteroffset', 'flat', 'fore', 'fpa', 'ifufore', 'ifupost', 'ifuslicer', 'msa', 'ote', 'photom', 'regions', 'sflat', 'specwcs', 'wavelengthrange', 'wfssbkg']\n",
      "2019-09-10 16:13:34,663 - stpipe.Image2Pipeline - INFO - Prefetch for AREA reference file is '/grp/crds/cache/references/jwst/jwst_miri_area_0004.fits'.\n",
      "2019-09-10 16:13:34,667 - stpipe.Image2Pipeline - INFO - Prefetch for CAMERA reference file is 'N/A'.\n",
      "2019-09-10 16:13:34,668 - stpipe.Image2Pipeline - INFO - Prefetch for COLLIMATOR reference file is 'N/A'.\n",
      "2019-09-10 16:13:34,668 - stpipe.Image2Pipeline - INFO - Prefetch for DFLAT reference file is 'N/A'.\n",
      "2019-09-10 16:13:34,668 - stpipe.Image2Pipeline - INFO - Prefetch for DISPERSER reference file is 'N/A'.\n",
      "2019-09-10 16:13:34,669 - stpipe.Image2Pipeline - INFO - Prefetch for DISTORTION reference file is '/grp/crds/cache/references/jwst/jwst_miri_distortion_0028.asdf'.\n",
      "2019-09-10 16:13:34,673 - stpipe.Image2Pipeline - INFO - Prefetch for DRIZPARS reference file is '/grp/crds/cache/references/jwst/jwst_miri_drizpars_0001.fits'.\n",
      "2019-09-10 16:13:34,677 - stpipe.Image2Pipeline - INFO - Prefetch for FFLAT reference file is 'N/A'.\n",
      "2019-09-10 16:13:34,678 - stpipe.Image2Pipeline - INFO - Prefetch for FILTEROFFSET reference file is '/grp/crds/cache/references/jwst/jwst_miri_filteroffset_0004.asdf'.\n",
      "2019-09-10 16:13:34,690 - stpipe.Image2Pipeline - INFO - Prefetch for FLAT reference file is '/grp/crds/cache/references/jwst/jwst_miri_flat_0188.fits'.\n",
      "2019-09-10 16:13:34,695 - stpipe.Image2Pipeline - INFO - Prefetch for FORE reference file is 'N/A'.\n",
      "2019-09-10 16:13:34,696 - stpipe.Image2Pipeline - INFO - Prefetch for FPA reference file is 'N/A'.\n",
      "2019-09-10 16:13:34,696 - stpipe.Image2Pipeline - INFO - Prefetch for IFUFORE reference file is 'N/A'.\n",
      "2019-09-10 16:13:34,697 - stpipe.Image2Pipeline - INFO - Prefetch for IFUPOST reference file is 'N/A'.\n",
      "2019-09-10 16:13:34,698 - stpipe.Image2Pipeline - INFO - Prefetch for IFUSLICER reference file is 'N/A'.\n",
      "2019-09-10 16:13:34,698 - stpipe.Image2Pipeline - INFO - Prefetch for MSA reference file is 'N/A'.\n",
      "2019-09-10 16:13:34,699 - stpipe.Image2Pipeline - INFO - Prefetch for OTE reference file is 'N/A'.\n",
      "2019-09-10 16:13:34,700 - stpipe.Image2Pipeline - INFO - Prefetch for PHOTOM reference file is '/grp/crds/cache/references/jwst/jwst_miri_photom_0042.fits'.\n",
      "2019-09-10 16:13:34,707 - stpipe.Image2Pipeline - INFO - Prefetch for REGIONS reference file is 'N/A'.\n",
      "2019-09-10 16:13:34,708 - stpipe.Image2Pipeline - INFO - Prefetch for SFLAT reference file is 'N/A'.\n",
      "2019-09-10 16:13:34,708 - stpipe.Image2Pipeline - INFO - Prefetch for SPECWCS reference file is 'N/A'.\n",
      "2019-09-10 16:13:34,709 - stpipe.Image2Pipeline - INFO - Prefetch for WAVELENGTHRANGE reference file is 'N/A'.\n",
      "2019-09-10 16:13:34,709 - stpipe.Image2Pipeline - INFO - Prefetch for WFSSBKG reference file is 'N/A'.\n",
      "2019-09-10 16:13:34,710 - stpipe.Image2Pipeline - INFO - Starting calwebb_image2 ...\n",
      "2019-09-10 16:13:34,743 - stpipe.Image2Pipeline - INFO - Processing product test\n",
      "2019-09-10 16:13:34,743 - stpipe.Image2Pipeline - INFO - Working on input <ImageModel(416, 72) from test.fits> ...\n",
      "2019-09-10 16:13:34,816 - stpipe.Image2Pipeline.assign_wcs - INFO - Step assign_wcs running with args (<ImageModel(416, 72) from test.fits>,).\n",
      "2019-09-10 16:13:35,275 - stpipe.Image2Pipeline.assign_wcs - INFO - Created a MIRI mir_image pipeline with references {'distortion': '/grp/crds/cache/references/jwst/jwst_miri_distortion_0028.asdf', 'filteroffset': '/grp/crds/cache/references/jwst/jwst_miri_filteroffset_0004.asdf', 'specwcs': None, 'regions': None, 'wavelengthrange': None, 'camera': None, 'collimator': None, 'disperser': None, 'fore': None, 'fpa': None, 'msa': None, 'ote': None, 'ifupost': None, 'ifufore': None, 'ifuslicer': None}\n",
      "2019-09-10 16:13:35,298 - stpipe.Image2Pipeline.assign_wcs - INFO - Update S_REGION to POLYGON ICRS  273.096594074 65.605618360 273.098840566 65.618325933 273.093615778 65.618514643 273.091346037 65.605800996\n",
      "2019-09-10 16:13:35,299 - stpipe.Image2Pipeline.assign_wcs - INFO - assign_wcs updated S_REGION to POLYGON ICRS  273.096594074 65.605618360 273.098840566 65.618325933 273.093615778 65.618514643 273.091346037 65.605800996\n",
      "2019-09-10 16:13:35,300 - stpipe.Image2Pipeline.assign_wcs - INFO - COMPLETED assign_wcs\n",
      "2019-09-10 16:13:35,306 - stpipe.Image2Pipeline.assign_wcs - INFO - Step assign_wcs done\n",
      "2019-09-10 16:13:35,366 - stpipe.Image2Pipeline.flat_field - INFO - Step flat_field running with args (<ImageModel(416, 72) from test.fits>,).\n",
      "2019-09-10 16:13:35,501 - stpipe.Image2Pipeline.flat_field - WARNING - Keyword CDP_PARTIAL_DATA does not correspond to an existing DQ mnemonic, so will be ignored\n",
      "2019-09-10 16:13:35,502 - stpipe.Image2Pipeline.flat_field - WARNING - Keyword CDP_LOW_QUAL does not correspond to an existing DQ mnemonic, so will be ignored\n",
      "2019-09-10 16:13:35,502 - stpipe.Image2Pipeline.flat_field - WARNING - Keyword CDP_UNRELIABLE_ERROR does not correspond to an existing DQ mnemonic, so will be ignored\n",
      "2019-09-10 16:13:35,504 - stpipe.Image2Pipeline.flat_field - WARNING - Keyword DIFF_PATTERN does not correspond to an existing DQ mnemonic, so will be ignored\n",
      "2019-09-10 16:13:35,625 - stpipe.Image2Pipeline.flat_field - INFO - Step flat_field done\n",
      "2019-09-10 16:13:35,685 - stpipe.Image2Pipeline.photom - INFO - Step photom running with args (<ImageModel(416, 72) from test.fits>,).\n",
      "2019-09-10 16:13:35,700 - stpipe.Image2Pipeline.photom - INFO - Using photom reference file: /grp/crds/cache/references/jwst/jwst_miri_photom_0042.fits\n",
      "2019-09-10 16:13:35,705 - stpipe.Image2Pipeline.photom - INFO - Using area reference file: /grp/crds/cache/references/jwst/jwst_miri_area_0004.fits\n",
      "2019-09-10 16:13:35,779 - stpipe.Image2Pipeline.photom - INFO - Using instrument: MIRI\n",
      "2019-09-10 16:13:35,779 - stpipe.Image2Pipeline.photom - INFO -  detector: MIRIMAGE\n",
      "2019-09-10 16:13:35,780 - stpipe.Image2Pipeline.photom - INFO -  exp_type: MIR_IMAGE\n",
      "2019-09-10 16:13:35,780 - stpipe.Image2Pipeline.photom - INFO -  filter: F770W\n",
      "2019-09-10 16:13:35,859 - stpipe.Image2Pipeline.photom - INFO -  subarray: SUBPRISM\n",
      "2019-09-10 16:13:35,861 - stpipe.Image2Pipeline.photom - INFO - PHOTMJSR value: 0.562788\n",
      "2019-09-10 16:13:35,967 - stpipe.Image2Pipeline.photom - INFO - Pixel area map copied to output.\n",
      "2019-09-10 16:13:35,971 - stpipe.Image2Pipeline.photom - INFO - Step photom done\n",
      "2019-09-10 16:13:36,030 - stpipe.Image2Pipeline.resample - INFO - Step resample running with args (<ImageModel(416, 72) from test.fits>,).\n",
      "2019-09-10 16:13:36,056 - stpipe.Image2Pipeline.resample - INFO - Drizpars reference file: /grp/crds/cache/references/jwst/jwst_miri_drizpars_0001.fits\n",
      "2019-09-10 16:13:36,210 - stpipe.Image2Pipeline.resample - INFO - Drizzling (416, 72) --> (424, 102)\n",
      "2019-09-10 16:13:36,232 - stpipe.Image2Pipeline.resample - INFO - Update S_REGION to POLYGON ICRS  273.098879264 65.605600181 273.098881126 65.618509869 273.091357977 65.618509869 273.091359853 65.605600180\n",
      "2019-09-10 16:13:36,236 - stpipe.Image2Pipeline.resample - WARNING - /Users/jmiller/miniconda3/envs/crds-env/lib/python3.7/site-packages/asdf/schema.py:250: ResourceWarning: unclosed file <_io.FileIO name='/grp/crds/cache/references/jwst/jwst_miri_area_0004.fits' mode='rb' closefd=True>\n",
      "  s = load_schema(schema_path, self.ctx.resolver)\n",
      "\n"
     ]
    },
    {
     "name": "stderr",
     "output_type": "stream",
     "text": [
      "2019-09-10 16:13:36,348 - stpipe.Image2Pipeline.resample - INFO - Saved model in test_i2d.fits\n",
      "2019-09-10 16:13:36,349 - stpipe.Image2Pipeline.resample - INFO - Step resample done\n",
      "2019-09-10 16:13:36,350 - stpipe.Image2Pipeline - INFO - Finished processing product test\n",
      "2019-09-10 16:13:36,352 - stpipe.Image2Pipeline - INFO - ... ending calwebb_image2\n",
      "2019-09-10 16:13:36,689 - stpipe.Image2Pipeline - INFO - Saved model in test_cal.fits\n",
      "2019-09-10 16:13:36,690 - stpipe.Image2Pipeline - INFO - Step Image2Pipeline done\n"
     ]
    }
   ],
   "source": [
    "output2 = Image2Pipeline.call(output1, config_file=\"cfgs/calwebb_image2.cfg\")"
   ]
  },
  {
   "cell_type": "markdown",
   "metadata": {},
   "source": [
    "### Run Level 3\n",
    "\n",
    "Stage 3 processing consists of routines that work with multiple exposures and in most cases produce some kind of combined product. There are unique pipeline modules for stage 3 processing of imaging, spectroscopic, coronagraphic, AMI, and TSO observations."
   ]
  },
  {
   "cell_type": "code",
   "execution_count": 19,
   "metadata": {},
   "outputs": [
    {
     "name": "stderr",
     "output_type": "stream",
     "text": [
      "2019-09-10 16:13:36,705 - stpipe.Image3Pipeline - INFO - Image3Pipeline instance created.\n",
      "2019-09-10 16:13:36,707 - stpipe.Image3Pipeline.tweakreg - INFO - TweakRegStep instance created.\n",
      "2019-09-10 16:13:36,709 - stpipe.Image3Pipeline.skymatch - INFO - SkyMatchStep instance created.\n",
      "2019-09-10 16:13:36,711 - stpipe.Image3Pipeline.outlier_detection - INFO - OutlierDetectionStep instance created.\n",
      "2019-09-10 16:13:36,714 - stpipe.Image3Pipeline.resample - INFO - ResampleStep instance created.\n",
      "2019-09-10 16:13:36,716 - stpipe.Image3Pipeline.source_catalog - INFO - SourceCatalogStep instance created.\n",
      "2019-09-10 16:13:36,779 - stpipe.Image3Pipeline - INFO - Step Image3Pipeline running with args (<ImageModel(416, 72) from test_cal.fits>,).\n",
      "2019-09-10 16:13:36,792 - stpipe.Image3Pipeline - INFO - Prefetching reference files for dataset: 'test_cal.fits' reftypes = ['drizpars']\n",
      "2019-09-10 16:13:36,798 - stpipe.Image3Pipeline - INFO - Prefetch for DRIZPARS reference file is '/grp/crds/cache/references/jwst/jwst_miri_drizpars_0001.fits'.\n",
      "2019-09-10 16:13:36,800 - stpipe.Image3Pipeline - INFO - Starting calwebb_image3 ...\n",
      "2019-09-10 16:13:36,812 - stpipe.Image3Pipeline - INFO - Resampling images to final result...\n",
      "2019-09-10 16:13:36,876 - stpipe.Image3Pipeline.resample - INFO - Step resample running with args (<ImageModel(416, 72) from test_cal.fits>,).\n",
      "2019-09-10 16:13:36,895 - stpipe.Image3Pipeline.resample - INFO - Drizpars reference file: /grp/crds/cache/references/jwst/jwst_miri_drizpars_0001.fits\n",
      "2019-09-10 16:13:36,986 - stpipe.Image3Pipeline.resample - INFO - Drizzling (416, 72) --> (424, 102)\n",
      "2019-09-10 16:13:37,006 - stpipe.Image3Pipeline.resample - INFO - Update S_REGION to POLYGON ICRS  273.098879264 65.605600181 273.098881126 65.618509869 273.091357977 65.618509869 273.091359853 65.605600180\n",
      "2019-09-10 16:13:37,009 - stpipe.Image3Pipeline.resample - INFO - Step resample done\n",
      "2019-09-10 16:13:37,010 - stpipe.Image3Pipeline - INFO - Creating source catalog...\n",
      "2019-09-10 16:13:37,069 - stpipe.Image3Pipeline.source_catalog - INFO - Step source_catalog running with args (<DrizProductModel(424, 102) from test_cal.fits>,).\n",
      "2019-09-10 16:13:37,098 - stpipe.Image3Pipeline.source_catalog - WARNING - /Users/jmiller/miniconda3/envs/crds-env/lib/python3.7/site-packages/photutils/segmentation/detect.py:172: NoDetectionsWarning: No sources were found.\n",
      "  warnings.warn('No sources were found.', NoDetectionsWarning)\n",
      "\n",
      "2019-09-10 16:13:37,099 - stpipe.Image3Pipeline.source_catalog - INFO - No sources were found.  Source catalog will not be written.\n",
      "2019-09-10 16:13:37,100 - stpipe.Image3Pipeline.source_catalog - INFO - Step source_catalog done\n",
      "2019-09-10 16:13:37,100 - stpipe.Image3Pipeline - INFO - Step Image3Pipeline done\n"
     ]
    }
   ],
   "source": [
    "output3 = Image3Pipeline.call(output2[0], config_file=\"cfgs/calwebb_image3.cfg\")"
   ]
  },
  {
   "cell_type": "code",
   "execution_count": null,
   "metadata": {},
   "outputs": [],
   "source": []
  }
 ],
 "metadata": {
  "kernelspec": {
   "display_name": "Python 3",
   "language": "python",
   "name": "python3"
  },
  "language_info": {
   "codemirror_mode": {
    "name": "ipython",
    "version": 3
   },
   "file_extension": ".py",
   "mimetype": "text/x-python",
   "name": "python",
   "nbconvert_exporter": "python",
   "pygments_lexer": "ipython3",
   "version": "3.7.4"
  }
 },
 "nbformat": 4,
 "nbformat_minor": 4
}
